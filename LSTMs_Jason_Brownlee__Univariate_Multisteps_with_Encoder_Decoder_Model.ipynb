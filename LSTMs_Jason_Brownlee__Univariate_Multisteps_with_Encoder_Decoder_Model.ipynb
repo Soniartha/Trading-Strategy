{
  "nbformat": 4,
  "nbformat_minor": 0,
  "metadata": {
    "colab": {
      "name": "LSTMs_Jason Brownlee_ Univariate-Multisteps with Encoder-Decoder Model.ipynb",
      "provenance": [],
      "authorship_tag": "ABX9TyOIAn/L9WrW5mcvAaW5o8nq",
      "include_colab_link": true
    },
    "kernelspec": {
      "name": "python3",
      "display_name": "Python 3"
    },
    "language_info": {
      "name": "python"
    }
  },
  "cells": [
    {
      "cell_type": "markdown",
      "metadata": {
        "id": "view-in-github",
        "colab_type": "text"
      },
      "source": [
        "<a href=\"https://colab.research.google.com/github/Soniartha/Trading-Strategy/blob/main/LSTMs_Jason_Brownlee__Univariate_Multisteps_with_Encoder_Decoder_Model.ipynb\" target=\"_parent\"><img src=\"https://colab.research.google.com/assets/colab-badge.svg\" alt=\"Open In Colab\"/></a>"
      ]
    },
    {
      "cell_type": "code",
      "metadata": {
        "id": "4rhBg0Zxkd0g"
      },
      "source": [
        "  #Import library\n",
        "  from numpy import array\n",
        "  from keras.models import Sequential\n",
        "  from keras.layers import Dense\n",
        "  from keras.layers import LSTM\n",
        "  from keras.layers import RepeatVector\n",
        "  from keras.layers import TimeDistributed"
      ],
      "execution_count": 2,
      "outputs": []
    },
    {
      "cell_type": "code",
      "metadata": {
        "id": "8_TtZ9Efl5bm"
      },
      "source": [
        "#Define split function to convert sequence data into X and y structure\n",
        "#Define Split Function to Convert sequence data into X and y structure\n",
        "def split_sequence(sequence, n_steps, n_steps_out):\n",
        "  X, y = list (), list ()\n",
        "  for i in range(len(sequence)):\n",
        "    end_ix = i + n_steps\n",
        "    out_end_ix = end_ix + n_steps_out\n",
        "    if out_end_ix > len(sequence):\n",
        "      break\n",
        "    seq_x, seq_y = sequence[i : end_ix], sequence[end_ix:out_end_ix]\n",
        "    X.append(seq_x)\n",
        "    y.append(seq_y)\n",
        "  return array(X), array(y)"
      ],
      "execution_count": 3,
      "outputs": []
    },
    {
      "cell_type": "code",
      "metadata": {
        "id": "UUtz6HYhmayy"
      },
      "source": [
        "#Define sequence\n",
        "series = [1,2,3,4,5,6,7,8,9,10]"
      ],
      "execution_count": 4,
      "outputs": []
    },
    {
      "cell_type": "code",
      "metadata": {
        "id": "oWbHQ4CUmeyQ"
      },
      "source": [
        "#Define n_steps\n",
        "n_steps, n_steps_out = 3,2"
      ],
      "execution_count": 5,
      "outputs": []
    },
    {
      "cell_type": "code",
      "metadata": {
        "id": "7qk88Qxomhxn"
      },
      "source": [
        "#Split sequence into X and y structure\n",
        "X, y = split_sequence(series, n_steps, n_steps_out)"
      ],
      "execution_count": 6,
      "outputs": []
    },
    {
      "cell_type": "code",
      "metadata": {
        "colab": {
          "base_uri": "https://localhost:8080/"
        },
        "id": "SA7v8R-6mjgP",
        "outputId": "d388f7db-93e8-4e27-e894-717149e99855"
      },
      "source": [
        "#Explore X and y dataset\n",
        "print(X.shape, y.shape)\n",
        "for i in range(len(X)):\n",
        "  print(X[i], y[i])"
      ],
      "execution_count": 7,
      "outputs": [
        {
          "output_type": "stream",
          "text": [
            "(6, 3) (6, 2)\n",
            "[1 2 3] [4 5]\n",
            "[2 3 4] [5 6]\n",
            "[3 4 5] [6 7]\n",
            "[4 5 6] [7 8]\n",
            "[5 6 7] [8 9]\n",
            "[6 7 8] [ 9 10]\n"
          ],
          "name": "stdout"
        }
      ]
    },
    {
      "cell_type": "code",
      "metadata": {
        "id": "5ngyBgubml0h"
      },
      "source": [
        "#Reshape from [samples, timesteps] into [samples, timesteps, feature]\n",
        "n_feature = 1\n",
        "X = X.reshape((X.shape[0], X.shape[1], n_feature))\n",
        "y = y.reshape((y.shape[0], y.shape[1], n_feature))"
      ],
      "execution_count": 8,
      "outputs": []
    },
    {
      "cell_type": "code",
      "metadata": {
        "id": "auIKk5a1nMeh"
      },
      "source": [
        "#Define model\n",
        "model = Sequential()\n",
        "model.add(LSTM(100, activation= 'relu', input_shape = (n_steps, n_feature)))\n",
        "model.add(RepeatVector(n_steps_out))\n",
        "model.add(LSTM(100, activation= 'relu', return_sequences= True))\n",
        "model.add(TimeDistributed(Dense(1)))\n",
        "model.compile(optimizer = 'adam', loss = 'mse')"
      ],
      "execution_count": 11,
      "outputs": []
    },
    {
      "cell_type": "code",
      "metadata": {
        "colab": {
          "base_uri": "https://localhost:8080/"
        },
        "id": "StnWXYwJnTG8",
        "outputId": "7afc6087-94cb-4247-f311-7fdaa6b82575"
      },
      "source": [
        "model.summary()"
      ],
      "execution_count": 12,
      "outputs": [
        {
          "output_type": "stream",
          "text": [
            "Model: \"sequential\"\n",
            "_________________________________________________________________\n",
            "Layer (type)                 Output Shape              Param #   \n",
            "=================================================================\n",
            "lstm (LSTM)                  (None, 100)               40800     \n",
            "_________________________________________________________________\n",
            "repeat_vector (RepeatVector) (None, 2, 100)            0         \n",
            "_________________________________________________________________\n",
            "lstm_1 (LSTM)                (None, 2, 100)            80400     \n",
            "_________________________________________________________________\n",
            "time_distributed (TimeDistri (None, 2, 1)              101       \n",
            "=================================================================\n",
            "Total params: 121,301\n",
            "Trainable params: 121,301\n",
            "Non-trainable params: 0\n",
            "_________________________________________________________________\n"
          ],
          "name": "stdout"
        }
      ]
    },
    {
      "cell_type": "code",
      "metadata": {
        "id": "oDIkgmkGoD9u"
      },
      "source": [
        "#Model fit\n",
        "model.fit(X, y, epochs= 1000, verbose= 2)"
      ],
      "execution_count": null,
      "outputs": []
    },
    {
      "cell_type": "code",
      "metadata": {
        "colab": {
          "base_uri": "https://localhost:8080/"
        },
        "id": "kcvmSmAvop7P",
        "outputId": "831d1547-3c24-4e7e-ca12-d6ee77c09a20"
      },
      "source": [
        "print(X.shape, y.shape)\n",
        "X[5, :, :]"
      ],
      "execution_count": 25,
      "outputs": [
        {
          "output_type": "stream",
          "text": [
            "(6, 3, 1) (6, 2, 1)\n"
          ],
          "name": "stdout"
        },
        {
          "output_type": "execute_result",
          "data": {
            "text/plain": [
              "array([[6],\n",
              "       [7],\n",
              "       [8]])"
            ]
          },
          "metadata": {
            "tags": []
          },
          "execution_count": 25
        }
      ]
    },
    {
      "cell_type": "code",
      "metadata": {
        "colab": {
          "base_uri": "https://localhost:8080/"
        },
        "id": "wUM1Z3IeoPOi",
        "outputId": "e0d89fdc-2dda-4b60-f535-588a56ffb915"
      },
      "source": [
        "#Demostrate prediction\n",
        "x_input = array([8, 9, 10])\n",
        "x_input = x_input.reshape((1, n_steps, n_feature))\n",
        "y_hat = model.predict(x_input, verbose= 0)\n",
        "print(y_hat)"
      ],
      "execution_count": 32,
      "outputs": [
        {
          "output_type": "stream",
          "text": [
            "[[[11.037136]\n",
            "  [12.019609]]]\n"
          ],
          "name": "stdout"
        }
      ]
    }
  ]
}