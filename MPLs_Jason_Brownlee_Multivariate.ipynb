{
  "nbformat": 4,
  "nbformat_minor": 0,
  "metadata": {
    "colab": {
      "name": "MPLs_Jason Brownlee_Multivariate.ipynb",
      "provenance": [],
      "collapsed_sections": [],
      "authorship_tag": "ABX9TyNbtv4wO4oMS22r3EEwAASi",
      "include_colab_link": true
    },
    "kernelspec": {
      "name": "python3",
      "display_name": "Python 3"
    },
    "language_info": {
      "name": "python"
    }
  },
  "cells": [
    {
      "cell_type": "markdown",
      "metadata": {
        "id": "view-in-github",
        "colab_type": "text"
      },
      "source": [
        "<a href=\"https://colab.research.google.com/github/Soniartha/Trading-Strategy/blob/main/MPLs_Jason_Brownlee_Multivariate.ipynb\" target=\"_parent\"><img src=\"https://colab.research.google.com/assets/colab-badge.svg\" alt=\"Open In Colab\"/></a>"
      ]
    },
    {
      "cell_type": "code",
      "metadata": {
        "id": "YhK0R269apvv"
      },
      "source": [
        "#Import Library\n",
        "from numpy import array\n",
        "from numpy import hstack\n",
        "from keras.models import Sequential\n",
        "from keras.layers import Dense"
      ],
      "execution_count": 2,
      "outputs": []
    },
    {
      "cell_type": "code",
      "metadata": {
        "id": "igCm2ZUF0iN3"
      },
      "source": [
        "#Split multivariate sequence into sample\n",
        "def split_sequence(sequence, n_steps):\n",
        "  X, y = list (), list ()\n",
        "  for i in range(len(sequence)):\n",
        "    #find the end of this pattern\n",
        "    end_ix = i + n_steps\n",
        "    #check if we are beyond the sequence\n",
        "    if end_ix > len(sequence)-1:\n",
        "      break\n",
        "    #gathering input and output parts of the pattern\n",
        "    seq_x, seq_y = sequence[i:end_ix, :-1], sequence[end_ix-1, -1]\n",
        "    X.append(seq_x)\n",
        "    y.append(seq_y)\n",
        "  return array(X), array(y)\n"
      ],
      "execution_count": 26,
      "outputs": []
    },
    {
      "cell_type": "code",
      "metadata": {
        "id": "7Cm5Ohnh2XWE"
      },
      "source": [
        "#Define the sequence\n",
        "in_seq1 = array([10, 20, 30, 40, 50, 60, 70, 80, 90])\n",
        "in_seq2 = array([15, 25, 35, 45, 55, 65, 75, 85, 95])\n",
        "out_seq = array([in_seq1[i] + in_seq2[i] for i in range(len(in_seq1))])"
      ],
      "execution_count": 7,
      "outputs": []
    },
    {
      "cell_type": "code",
      "metadata": {
        "id": "evEKoP-_3e4i"
      },
      "source": [
        "#convert to row and column structure/ 2D structure\n",
        "in_seq1 = in_seq1.reshape(len(in_seq1), 1)\n",
        "in_seq2 = in_seq2.reshape(len(in_seq2), 1)\n",
        "out_seq = out_seq.reshape(len(out_seq), 1)"
      ],
      "execution_count": 8,
      "outputs": []
    },
    {
      "cell_type": "code",
      "metadata": {
        "colab": {
          "base_uri": "https://localhost:8080/"
        },
        "id": "Q0baRsV63_S2",
        "outputId": "9df1784b-cca2-4eac-b705-9644104aaed4"
      },
      "source": [
        "#Horizontal stack columns\n",
        "dataset = hstack((in_seq1, in_seq2, out_seq))\n",
        "print(dataset.shape)"
      ],
      "execution_count": 25,
      "outputs": [
        {
          "output_type": "stream",
          "text": [
            "(9, 3)\n"
          ],
          "name": "stdout"
        }
      ]
    },
    {
      "cell_type": "code",
      "metadata": {
        "id": "6CBzzWvw4jX8"
      },
      "source": [
        "#Choose the number of time steps\n",
        "n_steps = 3"
      ],
      "execution_count": 12,
      "outputs": []
    },
    {
      "cell_type": "code",
      "metadata": {
        "id": "IruoFaAc4vpK"
      },
      "source": [
        "#Split dataset into supervised learning language (y = f(X))\n",
        "X,y = split_sequence(dataset, n_steps)"
      ],
      "execution_count": 27,
      "outputs": []
    },
    {
      "cell_type": "code",
      "metadata": {
        "id": "I1A47k825KY9"
      },
      "source": [
        "#Display X and y\n",
        "print(X.shape, y.shape)\n",
        "for i in range(len(X)):\n",
        "  print(X[i], y[i])"
      ],
      "execution_count": null,
      "outputs": []
    },
    {
      "cell_type": "code",
      "metadata": {
        "id": "04Oz0_AL7d8I"
      },
      "source": [
        "#Flaten and Reshape\n",
        "n_input = X.shape[1] * X.shape[2]\n",
        "X = X.reshape((X.shape[0], n_input))"
      ],
      "execution_count": 29,
      "outputs": []
    },
    {
      "cell_type": "code",
      "metadata": {
        "id": "TNP0TG7l8RCJ"
      },
      "source": [
        "#Define model Multi Layer Perceptron (MLP)\n",
        "model = Sequential()\n",
        "model.add(Dense(100, activation= 'relu', input_dim = n_input))\n",
        "model.add(Dense(1))\n",
        "model.compile(optimizer = 'adam', loss = 'mse')"
      ],
      "execution_count": 31,
      "outputs": []
    },
    {
      "cell_type": "code",
      "metadata": {
        "colab": {
          "base_uri": "https://localhost:8080/"
        },
        "id": "pLKZ3Ass8wmc",
        "outputId": "14805e95-0747-4a8b-d907-efac0dc8e90b"
      },
      "source": [
        "#Model fit \n",
        "model.fit(X, y, epochs= 2000, verbose= 0)"
      ],
      "execution_count": 32,
      "outputs": [
        {
          "output_type": "execute_result",
          "data": {
            "text/plain": [
              "<tensorflow.python.keras.callbacks.History at 0x7f4724b28190>"
            ]
          },
          "metadata": {
            "tags": []
          },
          "execution_count": 32
        }
      ]
    },
    {
      "cell_type": "code",
      "metadata": {
        "colab": {
          "base_uri": "https://localhost:8080/"
        },
        "id": "L1juEQNU87x-",
        "outputId": "1319b913-77fa-47a2-9fca-a5b7a44c79ce"
      },
      "source": [
        "#Demonstrate prediction\n",
        "x_input = array([[70,75],[80,85],[90,95]])\n",
        "x_input = x_input.reshape(1, n_input)\n",
        "y_hat = model.predict(x_input, verbose=0)\n",
        "print(y_hat)"
      ],
      "execution_count": 33,
      "outputs": [
        {
          "output_type": "stream",
          "text": [
            "[[185.13014]]\n"
          ],
          "name": "stdout"
        }
      ]
    }
  ]
}