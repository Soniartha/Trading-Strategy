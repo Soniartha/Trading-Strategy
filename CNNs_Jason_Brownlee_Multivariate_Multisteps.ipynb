{
  "nbformat": 4,
  "nbformat_minor": 0,
  "metadata": {
    "colab": {
      "name": "CNNs_Jason Brownlee_Multivariate-Multisteps.ipynb",
      "provenance": [],
      "authorship_tag": "ABX9TyPEokC52kVA7TmV25SndDaP"
    },
    "kernelspec": {
      "name": "python3",
      "display_name": "Python 3"
    },
    "language_info": {
      "name": "python"
    }
  },
  "cells": [
    {
      "cell_type": "code",
      "metadata": {
        "id": "o_olnd1jcTmR"
      },
      "source": [
        "#Import library\n",
        "from numpy import array\n",
        "from numpy import hstack\n",
        "from keras.models import Sequential\n",
        "from keras.layers import Dense\n",
        "from keras.layers import Flatten\n",
        "from keras.layers.convolutional import Conv1D\n",
        "from keras.layers.convolutional import MaxPooling1D"
      ],
      "execution_count": 1,
      "outputs": []
    },
    {
      "cell_type": "code",
      "metadata": {
        "id": "dN_pMB09dVtS"
      },
      "source": [
        "#define split function to convert sequence into X and y\n",
        "def split_sequence(sequence, n_steps_in, n_steps_out):\n",
        "  X, y = list (), list ()\n",
        "  for i in range(len(sequence)):\n",
        "    end_ix = i + n_steps_in\n",
        "    out_end_ix = end_ix + n_steps_out\n",
        "    if out_end_ix > len(sequence):\n",
        "      break\n",
        "    seq_x, seq_y = sequence[i: end_ix, :-1], sequence[end_ix: out_end_ix, -1]\n",
        "    X.append(seq_x)\n",
        "    y.append(seq_y)\n",
        "  return array(X), array(y)"
      ],
      "execution_count": 3,
      "outputs": []
    },
    {
      "cell_type": "code",
      "metadata": {
        "id": "Ce8azOb2eWH_"
      },
      "source": [
        "#Define sequence\n",
        "in_seq1 = array([10, 20, 30, 40, 50, 60, 70, 80, 90])\n",
        "in_seq2 = array([15, 25, 35, 45, 55, 65, 75, 85, 95])\n",
        "out_seq = array([in_seq1[i] + in_seq2[i] for i in range (len(in_seq1))])\n"
      ],
      "execution_count": 4,
      "outputs": []
    },
    {
      "cell_type": "code",
      "metadata": {
        "id": "EpDWIBcZe7B2"
      },
      "source": [
        "#Convert into rows and column \n",
        "in_seq1 = in_seq1.reshape((len(in_seq1), 1))\n",
        "in_seq2 = in_seq2.reshape((len(in_seq2), 1))\n",
        "out_seq = out_seq.reshape((len(out_seq), 1))"
      ],
      "execution_count": 5,
      "outputs": []
    },
    {
      "cell_type": "code",
      "metadata": {
        "id": "C22xFtNBfXYf"
      },
      "source": [
        "#Horizontal stack\n",
        "dataset = hstack((in_seq1, in_seq2, out_seq))"
      ],
      "execution_count": 6,
      "outputs": []
    },
    {
      "cell_type": "code",
      "metadata": {
        "id": "sLdREAqifioQ"
      },
      "source": [
        "#define n_steps_in and n_steps_out\n",
        "n_steps_in, n_steps_out = 3,2"
      ],
      "execution_count": 7,
      "outputs": []
    },
    {
      "cell_type": "code",
      "metadata": {
        "id": "Jcjv5oSWfeBM"
      },
      "source": [
        "#Split into X and y dataset\n",
        "X, y = split_sequence(dataset, n_steps_in, n_steps_out)"
      ],
      "execution_count": 8,
      "outputs": []
    },
    {
      "cell_type": "code",
      "metadata": {
        "colab": {
          "base_uri": "https://localhost:8080/"
        },
        "id": "aFehrxuvfwv8",
        "outputId": "6dc5cc34-ed3e-4901-93d3-aa1a44196392"
      },
      "source": [
        "#Explore X and y dataset\n",
        "print(X.shape, y.shape)\n",
        "for i in range(len(X)):\n",
        "  print(X[i], y[i])"
      ],
      "execution_count": 9,
      "outputs": [
        {
          "output_type": "stream",
          "text": [
            "(5, 3, 2) (5, 2)\n",
            "[[10 15]\n",
            " [20 25]\n",
            " [30 35]] [ 85 105]\n",
            "[[20 25]\n",
            " [30 35]\n",
            " [40 45]] [105 125]\n",
            "[[30 35]\n",
            " [40 45]\n",
            " [50 55]] [125 145]\n",
            "[[40 45]\n",
            " [50 55]\n",
            " [60 65]] [145 165]\n",
            "[[50 55]\n",
            " [60 65]\n",
            " [70 75]] [165 185]\n"
          ],
          "name": "stdout"
        }
      ]
    },
    {
      "cell_type": "code",
      "metadata": {
        "id": "iuzwzU_mf6k5"
      },
      "source": [
        "#Define n_feature\n",
        "n_feature = X.shape[2]"
      ],
      "execution_count": 10,
      "outputs": []
    },
    {
      "cell_type": "code",
      "metadata": {
        "id": "veqGEK76gFLe"
      },
      "source": [
        "#Reshape into 3D structure [sample, n_steps, n_feature]\n",
        "X = X.reshape((X.shape[0], n_steps_in, n_feature))"
      ],
      "execution_count": 11,
      "outputs": []
    },
    {
      "cell_type": "code",
      "metadata": {
        "id": "BVctATb8gZM9"
      },
      "source": [
        "#Define model\n",
        "model = Sequential()\n",
        "model.add(Conv1D(filters= 64, kernel_size= 2, activation= 'relu', input_shape = (n_steps_in, n_feature)))\n",
        "model.add(MaxPooling1D(pool_size= 2))\n",
        "model.add(Flatten())\n",
        "model.add(Dense(50, activation= 'relu'))\n",
        "model.add(Dense(n_steps_out))\n",
        "model.compile(optimizer = 'adam', loss = 'mse')"
      ],
      "execution_count": 12,
      "outputs": []
    },
    {
      "cell_type": "code",
      "metadata": {
        "colab": {
          "base_uri": "https://localhost:8080/"
        },
        "id": "_7D5DqVqg6EM",
        "outputId": "1ddcba78-a6d3-44e3-8839-46be6d582f42"
      },
      "source": [
        "#Summary model\n",
        "model.summary()"
      ],
      "execution_count": 13,
      "outputs": [
        {
          "output_type": "stream",
          "text": [
            "Model: \"sequential\"\n",
            "_________________________________________________________________\n",
            "Layer (type)                 Output Shape              Param #   \n",
            "=================================================================\n",
            "conv1d (Conv1D)              (None, 2, 64)             320       \n",
            "_________________________________________________________________\n",
            "max_pooling1d (MaxPooling1D) (None, 1, 64)             0         \n",
            "_________________________________________________________________\n",
            "flatten (Flatten)            (None, 64)                0         \n",
            "_________________________________________________________________\n",
            "dense (Dense)                (None, 50)                3250      \n",
            "_________________________________________________________________\n",
            "dense_1 (Dense)              (None, 2)                 102       \n",
            "=================================================================\n",
            "Total params: 3,672\n",
            "Trainable params: 3,672\n",
            "Non-trainable params: 0\n",
            "_________________________________________________________________\n"
          ],
          "name": "stdout"
        }
      ]
    },
    {
      "cell_type": "code",
      "metadata": {
        "colab": {
          "base_uri": "https://localhost:8080/"
        },
        "id": "qzYUhGWWg-2j",
        "outputId": "8a52bbb1-9810-4a78-9b8e-1d2a8fbf0759"
      },
      "source": [
        "#Fit model\n",
        "model.fit(X, y, epochs= 2000, verbose= 0)"
      ],
      "execution_count": 14,
      "outputs": [
        {
          "output_type": "execute_result",
          "data": {
            "text/plain": [
              "<tensorflow.python.keras.callbacks.History at 0x7fe003bd8350>"
            ]
          },
          "metadata": {
            "tags": []
          },
          "execution_count": 14
        }
      ]
    },
    {
      "cell_type": "code",
      "metadata": {
        "colab": {
          "base_uri": "https://localhost:8080/"
        },
        "id": "_QtmQoBUhGoL",
        "outputId": "38b7176e-a405-4d05-fe9f-b42e4f2c3cde"
      },
      "source": [
        "#Demonstrate prediction\n",
        "x_input = array([[50, 55], [60, 65], [70, 75]])\n",
        "x_input = x_input.reshape((1, n_steps_in, n_feature))\n",
        "y_hat = model.predict(x_input, verbose=0)\n",
        "print(y_hat)"
      ],
      "execution_count": 15,
      "outputs": [
        {
          "output_type": "stream",
          "text": [
            "[[164.98882 185.02072]]\n"
          ],
          "name": "stdout"
        }
      ]
    }
  ]
}