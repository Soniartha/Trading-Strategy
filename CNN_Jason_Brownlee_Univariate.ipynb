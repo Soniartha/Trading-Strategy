{
  "nbformat": 4,
  "nbformat_minor": 0,
  "metadata": {
    "colab": {
      "name": "CNN_Jason Brownlee_Univariate.ipynb",
      "provenance": [],
      "authorship_tag": "ABX9TyMEBaexAF+uepaPE4BxzYyV",
      "include_colab_link": true
    },
    "kernelspec": {
      "name": "python3",
      "display_name": "Python 3"
    },
    "language_info": {
      "name": "python"
    }
  },
  "cells": [
    {
      "cell_type": "markdown",
      "metadata": {
        "id": "view-in-github",
        "colab_type": "text"
      },
      "source": [
        "<a href=\"https://colab.research.google.com/github/Soniartha/Trading-Strategy/blob/main/CNN_Jason_Brownlee_Univariate.ipynb\" target=\"_parent\"><img src=\"https://colab.research.google.com/assets/colab-badge.svg\" alt=\"Open In Colab\"/></a>"
      ]
    },
    {
      "cell_type": "code",
      "metadata": {
        "id": "1N4iRGrUF75I"
      },
      "source": [
        "#Multivariate CNNs Models\n",
        "from numpy import array\n",
        "from numpy import hstack\n",
        "from keras.models import Sequential\n",
        "from keras.layers import Dense\n",
        "from keras.layers import Flatten\n",
        "from keras.layers.convolutional import Conv1D\n",
        "from keras.layers.convolutional import MaxPooling1D"
      ],
      "execution_count": 2,
      "outputs": []
    },
    {
      "cell_type": "code",
      "metadata": {
        "id": "4o3qxVLdAiSL"
      },
      "source": [
        "#Define sequence\n",
        "in_seq1 = array([10, 20, 30, 40, 50, 60, 70, 80, 90])\n",
        "in_seq2 = array([15, 25, 35, 45, 55, 65, 75, 85, 95])\n",
        "out_seq = array([in_seq1[i] + in_seq2[i] for i in range (len(in_seq1))])"
      ],
      "execution_count": 6,
      "outputs": []
    },
    {
      "cell_type": "code",
      "metadata": {
        "id": "WD2lw5CZBeEr"
      },
      "source": [
        "#convert into rows and columns \n",
        "in_seq1 = in_seq1.reshape((len(in_seq1),1))\n",
        "in_seq2 = in_seq2.reshape((len(in_seq2),1))\n",
        "out_seq = out_seq.reshape((len(out_seq),1))"
      ],
      "execution_count": 7,
      "outputs": []
    },
    {
      "cell_type": "code",
      "metadata": {
        "colab": {
          "base_uri": "https://localhost:8080/"
        },
        "id": "PC7ApZaHCQaD",
        "outputId": "6d80cc9f-16b1-4a79-c5db-5a55864aa46b"
      },
      "source": [
        "#Horizontal stack\n",
        "dataset = hstack((in_seq1, in_seq2, out_seq))\n",
        "dataset"
      ],
      "execution_count": 14,
      "outputs": [
        {
          "output_type": "execute_result",
          "data": {
            "text/plain": [
              "array([[ 10,  15,  25],\n",
              "       [ 20,  25,  45],\n",
              "       [ 30,  35,  65],\n",
              "       [ 40,  45,  85],\n",
              "       [ 50,  55, 105],\n",
              "       [ 60,  65, 125],\n",
              "       [ 70,  75, 145],\n",
              "       [ 80,  85, 165],\n",
              "       [ 90,  95, 185]])"
            ]
          },
          "metadata": {
            "tags": []
          },
          "execution_count": 14
        }
      ]
    },
    {
      "cell_type": "code",
      "metadata": {
        "id": "YkKGuSSSCmJG"
      },
      "source": [
        "def split_sequence(sequence, n_steps):\n",
        "  X, y = list (), list ()\n",
        "  for i in range (len(sequence)):\n",
        "    end_ix = i + n_steps\n",
        "    if end_ix > len(sequence): #khusus untuk multi variate tidak -1\n",
        "      break\n",
        "    seq_x, seq_y = sequence[i:end_ix, :-1], sequence[end_ix-1, -1]\n",
        "    X.append(seq_x)\n",
        "    y.append(seq_y)\n",
        "  return array(X), array(y)"
      ],
      "execution_count": 20,
      "outputs": []
    },
    {
      "cell_type": "code",
      "metadata": {
        "id": "jFP8DPvzDmAs"
      },
      "source": [
        "#Define n_steps\n",
        "n_steps = 3"
      ],
      "execution_count": 10,
      "outputs": []
    },
    {
      "cell_type": "code",
      "metadata": {
        "id": "2EbzGFHdDcqw"
      },
      "source": [
        "#Split into input and output in this pattern (X,y)\n",
        "X,y = split_sequence(dataset, n_steps)"
      ],
      "execution_count": 21,
      "outputs": []
    },
    {
      "cell_type": "code",
      "metadata": {
        "colab": {
          "base_uri": "https://localhost:8080/"
        },
        "id": "ZdVAGuEjDwb9",
        "outputId": "8c7a7133-81d3-426d-aa5d-51c06f1fed33"
      },
      "source": [
        "#Display the data \n",
        "for i in range(len(X)):\n",
        "  print(X[i], y[i])"
      ],
      "execution_count": 22,
      "outputs": [
        {
          "output_type": "stream",
          "text": [
            "[[10 15]\n",
            " [20 25]\n",
            " [30 35]] 65\n",
            "[[20 25]\n",
            " [30 35]\n",
            " [40 45]] 85\n",
            "[[30 35]\n",
            " [40 45]\n",
            " [50 55]] 105\n",
            "[[40 45]\n",
            " [50 55]\n",
            " [60 65]] 125\n",
            "[[50 55]\n",
            " [60 65]\n",
            " [70 75]] 145\n",
            "[[60 65]\n",
            " [70 75]\n",
            " [80 85]] 165\n",
            "[[70 75]\n",
            " [80 85]\n",
            " [90 95]] 185\n"
          ],
          "name": "stdout"
        }
      ]
    },
    {
      "cell_type": "code",
      "metadata": {
        "id": "v6Svlu_nHe1i"
      },
      "source": [
        "#n_feature for 3D Structure\n",
        "n_features = X.shape[2]\n",
        "X = X.reshape((X.shape[0], X.shape[1], n_features))"
      ],
      "execution_count": 26,
      "outputs": []
    },
    {
      "cell_type": "code",
      "metadata": {
        "id": "nmJUM9TMHzKI"
      },
      "source": [
        "#Define model\n",
        "model = Sequential()\n",
        "model.add(Conv1D(filters= 64, kernel_size=2, activation= 'relu', input_shape= (n_steps, n_features)))\n",
        "model.add(MaxPooling1D(pool_size= 2))\n",
        "model.add(Flatten())\n",
        "model.add(Dense(1))\n",
        "model.compile(optimizer = 'adam', loss= 'mse')"
      ],
      "execution_count": 25,
      "outputs": []
    },
    {
      "cell_type": "code",
      "metadata": {
        "colab": {
          "base_uri": "https://localhost:8080/"
        },
        "id": "9fwc6pn2JReY",
        "outputId": "2a02c2ce-9e8e-4418-9096-1402cf6473db"
      },
      "source": [
        "model.summary()"
      ],
      "execution_count": 29,
      "outputs": [
        {
          "output_type": "stream",
          "text": [
            "Model: \"sequential_1\"\n",
            "_________________________________________________________________\n",
            "Layer (type)                 Output Shape              Param #   \n",
            "=================================================================\n",
            "conv1d_1 (Conv1D)            (None, 2, 64)             320       \n",
            "_________________________________________________________________\n",
            "max_pooling1d_1 (MaxPooling1 (None, 1, 64)             0         \n",
            "_________________________________________________________________\n",
            "flatten_1 (Flatten)          (None, 64)                0         \n",
            "_________________________________________________________________\n",
            "dense_1 (Dense)              (None, 1)                 65        \n",
            "=================================================================\n",
            "Total params: 385\n",
            "Trainable params: 385\n",
            "Non-trainable params: 0\n",
            "_________________________________________________________________\n"
          ],
          "name": "stdout"
        }
      ]
    },
    {
      "cell_type": "code",
      "metadata": {
        "colab": {
          "base_uri": "https://localhost:8080/"
        },
        "id": "Gwv4lphGItjI",
        "outputId": "5fb8fa6f-8e8e-4e6a-cf04-19bc92377753"
      },
      "source": [
        "#Fit model\n",
        "model.fit(X, y, epochs= 1000, verbose= 0)"
      ],
      "execution_count": 31,
      "outputs": [
        {
          "output_type": "execute_result",
          "data": {
            "text/plain": [
              "<tensorflow.python.keras.callbacks.History at 0x7f3c405756d0>"
            ]
          },
          "metadata": {
            "tags": []
          },
          "execution_count": 31
        }
      ]
    },
    {
      "cell_type": "code",
      "metadata": {
        "colab": {
          "base_uri": "https://localhost:8080/"
        },
        "id": "HpjN-cpWJJBF",
        "outputId": "c4fda251-e8ea-4ea3-893d-8516b4dc15d7"
      },
      "source": [
        "#Demonstrate prediction\n",
        "x_input = array([[80,85],[90,95], [100, 105]])\n",
        "x_input = x_input.reshape((1, n_steps, n_features))\n",
        "y_hat = model.predict(x_input, verbose=0)\n",
        "print(y_hat)"
      ],
      "execution_count": 33,
      "outputs": [
        {
          "output_type": "stream",
          "text": [
            "[[206.59293]]\n"
          ],
          "name": "stdout"
        }
      ]
    }
  ]
}