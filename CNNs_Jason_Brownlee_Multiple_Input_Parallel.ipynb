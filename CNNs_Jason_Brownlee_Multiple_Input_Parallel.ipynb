{
  "nbformat": 4,
  "nbformat_minor": 0,
  "metadata": {
    "colab": {
      "name": "CNNs_Jason Brownlee_Multiple Input Parallel.ipynb",
      "provenance": [],
      "authorship_tag": "ABX9TyOmUMNeG+rwaNM1dJy7RX8c"
    },
    "kernelspec": {
      "name": "python3",
      "display_name": "Python 3"
    },
    "language_info": {
      "name": "python"
    }
  },
  "cells": [
    {
      "cell_type": "code",
      "metadata": {
        "id": "ogPCQ5cPdjzn"
      },
      "source": [
        "#Import library\n",
        "from numpy import array\n",
        "from numpy import hstack\n",
        "from keras.models import Sequential\n",
        "from keras.layers import Dense\n",
        "from keras.layers.convolutional import Conv1D\n",
        "from keras.layers.convolutional import MaxPooling1D\n",
        "from keras.layers import Flatten"
      ],
      "execution_count": 1,
      "outputs": []
    },
    {
      "cell_type": "code",
      "metadata": {
        "id": "FxlPF0TGgLMs"
      },
      "source": [
        "#Define split function to convert sequence data into input (X) and output (Y) structure\n",
        "def split_function(sequence, n_steps):\n",
        "  X,Y = list (), list ()\n",
        "  for i in range(len(sequence)):\n",
        "    end_ix = i + n_steps\n",
        "    if end_ix > len(sequence)-1:\n",
        "      break\n",
        "    seq_x, seq_y = sequence[i:end_ix, :], sequence[end_ix,:]\n",
        "    X.append(seq_x)\n",
        "    Y.append(seq_y)\n",
        "  return array(X), array(Y)"
      ],
      "execution_count": 58,
      "outputs": []
    },
    {
      "cell_type": "code",
      "metadata": {
        "id": "beOtIXlVgm69"
      },
      "source": [
        "#Define sequence dataset\n",
        "in_seq1 = array([10, 20, 30, 40, 50, 60, 70, 80, 90, 100])\n",
        "in_seq2 = array([in_seq1[i] ** 2 for i in range(len(in_seq1))])\n",
        "in_seq3 = array([in_seq1[i] * 2 for i in range(len(in_seq1))])\n",
        "in_seq4 = array([in_seq1[i] + 5 for i in range(len(in_seq1))])\n",
        "out_seq5 = array([in_seq1[i]+in_seq2[i]+in_seq3[i]+in_seq4[i] for i in range(len(in_seq1))])"
      ],
      "execution_count": 59,
      "outputs": []
    },
    {
      "cell_type": "code",
      "metadata": {
        "id": "P1dfnALniOzX"
      },
      "source": [
        "#Convert into rows and columns structure / 2D structure\n",
        "in_seq1 = in_seq1.reshape((len(in_seq1), 1))\n",
        "in_seq2 = in_seq2.reshape((len(in_seq2), 1))\n",
        "in_seq3 = in_seq3.reshape((len(in_seq3), 1))\n",
        "in_seq4 = in_seq4.reshape((len(in_seq4), 1))\n",
        "out_seq5 = out_seq5.reshape((len(out_seq5), 1))"
      ],
      "execution_count": 54,
      "outputs": []
    },
    {
      "cell_type": "code",
      "metadata": {
        "id": "tLsZ5mM2i5ir"
      },
      "source": [
        "#Horizontal stack\n",
        "dataset = hstack((in_seq1, in_seq2, in_seq3, in_seq4, out_seq5))\n"
      ],
      "execution_count": 55,
      "outputs": []
    },
    {
      "cell_type": "code",
      "metadata": {
        "id": "ZxDja2H-jN10"
      },
      "source": [
        "#define n_steps\n",
        "n_steps = 3"
      ],
      "execution_count": 56,
      "outputs": []
    },
    {
      "cell_type": "code",
      "metadata": {
        "id": "2-f7K-bBjB35"
      },
      "source": [
        "#Split into input (X) and output parallel (Y)\n",
        "X, Y = split_function(dataset, n_steps)"
      ],
      "execution_count": 60,
      "outputs": []
    },
    {
      "cell_type": "code",
      "metadata": {
        "colab": {
          "base_uri": "https://localhost:8080/"
        },
        "id": "dhQK1QBajTbe",
        "outputId": "ab92da29-19c6-4fcf-8aef-30064631e0a0"
      },
      "source": [
        "#Explore input and output\n",
        "print(X.shape, Y.shape)\n",
        "for i in range(len(X)):\n",
        "  print(X[i], Y[i])"
      ],
      "execution_count": 61,
      "outputs": [
        {
          "output_type": "stream",
          "text": [
            "(7, 3, 5) (7, 5)\n",
            "[[  10  100   20   15  145]\n",
            " [  20  400   40   25  485]\n",
            " [  30  900   60   35 1025]] [  40 1600   80   45 1765]\n",
            "[[  20  400   40   25  485]\n",
            " [  30  900   60   35 1025]\n",
            " [  40 1600   80   45 1765]] [  50 2500  100   55 2705]\n",
            "[[  30  900   60   35 1025]\n",
            " [  40 1600   80   45 1765]\n",
            " [  50 2500  100   55 2705]] [  60 3600  120   65 3845]\n",
            "[[  40 1600   80   45 1765]\n",
            " [  50 2500  100   55 2705]\n",
            " [  60 3600  120   65 3845]] [  70 4900  140   75 5185]\n",
            "[[  50 2500  100   55 2705]\n",
            " [  60 3600  120   65 3845]\n",
            " [  70 4900  140   75 5185]] [  80 6400  160   85 6725]\n",
            "[[  60 3600  120   65 3845]\n",
            " [  70 4900  140   75 5185]\n",
            " [  80 6400  160   85 6725]] [  90 8100  180   95 8465]\n",
            "[[  70 4900  140   75 5185]\n",
            " [  80 6400  160   85 6725]\n",
            " [  90 8100  180   95 8465]] [  100 10000   200   105 10405]\n"
          ],
          "name": "stdout"
        }
      ]
    },
    {
      "cell_type": "code",
      "metadata": {
        "colab": {
          "base_uri": "https://localhost:8080/"
        },
        "id": "WVnGkkikjjuR",
        "outputId": "0249506a-1c21-42ee-f912-5dd5b989ffdb"
      },
      "source": [
        "print(dataset)"
      ],
      "execution_count": 62,
      "outputs": [
        {
          "output_type": "stream",
          "text": [
            "[[   10   100    20    15   145]\n",
            " [   20   400    40    25   485]\n",
            " [   30   900    60    35  1025]\n",
            " [   40  1600    80    45  1765]\n",
            " [   50  2500   100    55  2705]\n",
            " [   60  3600   120    65  3845]\n",
            " [   70  4900   140    75  5185]\n",
            " [   80  6400   160    85  6725]\n",
            " [   90  8100   180    95  8465]\n",
            " [  100 10000   200   105 10405]]\n"
          ],
          "name": "stdout"
        }
      ]
    },
    {
      "cell_type": "code",
      "metadata": {
        "colab": {
          "base_uri": "https://localhost:8080/"
        },
        "id": "S2bADb-LkEAC",
        "outputId": "c2b8fdf0-6291-4fad-de62-61a6f8db072e"
      },
      "source": [
        "#define n_feature\n",
        "n_feature = X.shape[2]\n",
        "n_feature"
      ],
      "execution_count": 63,
      "outputs": [
        {
          "output_type": "execute_result",
          "data": {
            "text/plain": [
              "5"
            ]
          },
          "metadata": {
            "tags": []
          },
          "execution_count": 63
        }
      ]
    },
    {
      "cell_type": "code",
      "metadata": {
        "id": "49YlOjFYjzNw"
      },
      "source": [
        "#Convert into 3D structure\n",
        "X_3D = X.reshape((X.shape[0], n_steps, n_feature))"
      ],
      "execution_count": 64,
      "outputs": []
    },
    {
      "cell_type": "code",
      "metadata": {
        "id": "IFSrq3xwk5cN"
      },
      "source": [
        "#Define model\n",
        "model = Sequential()\n",
        "model.add(Conv1D(filters=64, kernel_size= 2, activation= 'relu', input_shape = (n_steps, n_feature)))\n",
        "model.add(MaxPooling1D(pool_size= 2))\n",
        "model.add(Flatten())\n",
        "model.add(Dense(50, activation= 'relu'))\n",
        "model.add(Dense(n_feature))\n",
        "model.compile(optimizer = 'adam', loss='mse')"
      ],
      "execution_count": 65,
      "outputs": []
    },
    {
      "cell_type": "code",
      "metadata": {
        "colab": {
          "base_uri": "https://localhost:8080/"
        },
        "id": "lbE7MSqWlgrp",
        "outputId": "8586f74c-52f3-4f49-b394-324a6204557a"
      },
      "source": [
        "#Explore model\n",
        "model.summary()"
      ],
      "execution_count": 66,
      "outputs": [
        {
          "output_type": "stream",
          "text": [
            "Model: \"sequential_3\"\n",
            "_________________________________________________________________\n",
            "Layer (type)                 Output Shape              Param #   \n",
            "=================================================================\n",
            "conv1d_3 (Conv1D)            (None, 2, 64)             704       \n",
            "_________________________________________________________________\n",
            "max_pooling1d_3 (MaxPooling1 (None, 1, 64)             0         \n",
            "_________________________________________________________________\n",
            "flatten_3 (Flatten)          (None, 64)                0         \n",
            "_________________________________________________________________\n",
            "dense_6 (Dense)              (None, 50)                3250      \n",
            "_________________________________________________________________\n",
            "dense_7 (Dense)              (None, 5)                 255       \n",
            "=================================================================\n",
            "Total params: 4,209\n",
            "Trainable params: 4,209\n",
            "Non-trainable params: 0\n",
            "_________________________________________________________________\n"
          ],
          "name": "stdout"
        }
      ]
    },
    {
      "cell_type": "code",
      "metadata": {
        "colab": {
          "base_uri": "https://localhost:8080/"
        },
        "id": "O25Nq3yalnmw",
        "outputId": "2ce291b1-062d-41bf-dcc6-bd3ea2777329"
      },
      "source": [
        "#Fit model\n",
        "model.fit(X,Y,epochs=1000, verbose=0)"
      ],
      "execution_count": 67,
      "outputs": [
        {
          "output_type": "execute_result",
          "data": {
            "text/plain": [
              "<tensorflow.python.keras.callbacks.History at 0x7fd58b373a50>"
            ]
          },
          "metadata": {
            "tags": []
          },
          "execution_count": 67
        }
      ]
    },
    {
      "cell_type": "code",
      "metadata": {
        "colab": {
          "base_uri": "https://localhost:8080/"
        },
        "id": "6IHqmE3nl-ZN",
        "outputId": "1b431cbc-4b79-40f6-ba0a-5e21d6e6135e"
      },
      "source": [
        "#Demonstrate prediction\n",
        "input_X = dataset[7:10, :] \n",
        "input_X = input_X.reshape((1,n_steps, n_feature))\n",
        "y_hat = model.predict(input_X, verbose=0)\n",
        "print(y_hat.shape, y_hat)"
      ],
      "execution_count": 81,
      "outputs": [
        {
          "output_type": "stream",
          "text": [
            "(1, 5) [[   95.13876 12071.693     220.24503   112.98081 12539.919  ]]\n"
          ],
          "name": "stdout"
        }
      ]
    }
  ]
}