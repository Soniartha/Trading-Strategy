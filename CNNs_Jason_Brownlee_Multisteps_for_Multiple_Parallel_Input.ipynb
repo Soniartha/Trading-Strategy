{
  "nbformat": 4,
  "nbformat_minor": 0,
  "metadata": {
    "colab": {
      "name": "CNNs_Jason Brownlee_Multisteps for Multiple Parallel Input.ipynb",
      "provenance": [],
      "authorship_tag": "ABX9TyOmM5V0ZXbXjgetb7KHK9yy",
      "include_colab_link": true
    },
    "kernelspec": {
      "name": "python3",
      "display_name": "Python 3"
    },
    "language_info": {
      "name": "python"
    }
  },
  "cells": [
    {
      "cell_type": "markdown",
      "metadata": {
        "id": "view-in-github",
        "colab_type": "text"
      },
      "source": [
        "<a href=\"https://colab.research.google.com/github/Soniartha/Trading-Strategy/blob/main/CNNs_Jason_Brownlee_Multisteps_for_Multiple_Parallel_Input.ipynb\" target=\"_parent\"><img src=\"https://colab.research.google.com/assets/colab-badge.svg\" alt=\"Open In Colab\"/></a>"
      ]
    },
    {
      "cell_type": "code",
      "metadata": {
        "id": "qle4qpqC3dCp"
      },
      "source": [
        "#Import library\n",
        "from numpy import array\n",
        "from numpy import hstack\n",
        "from keras.models import Sequential\n",
        "from keras.layers import Flatten\n",
        "from keras.layers import Dense\n",
        "from keras.layers.convolutional import Conv1D\n",
        "from keras.layers.convolutional import MaxPooling1D"
      ],
      "execution_count": 37,
      "outputs": []
    },
    {
      "cell_type": "code",
      "metadata": {
        "id": "OX6k_wsT4g85"
      },
      "source": [
        "#Define split function to convert sequence into X and y data\n",
        "def split_sequence(sequence, n_steps_in, n_steps_out):\n",
        "  X, y = list (), list ()\n",
        "  for i in range(len(sequence)):\n",
        "    end_ix = i + n_steps_in\n",
        "    out_end_ix = end_ix + n_steps_out\n",
        "    if out_end_ix > len(sequence):\n",
        "      break\n",
        "    seq_x, seq_y = sequence[i:end_ix, :], sequence[end_ix : out_end_ix, :]\n",
        "    X.append(seq_x)\n",
        "    y.append(seq_y)\n",
        "  return array(X), array(y)\n"
      ],
      "execution_count": 16,
      "outputs": []
    },
    {
      "cell_type": "code",
      "metadata": {
        "id": "qtdOKtNV5YJ6"
      },
      "source": [
        "#Define sequence\n",
        "in_seq1 = array([10, 20, 30, 40, 50, 60, 70, 80, 90])\n",
        "in_seq2 = array([15, 25, 35, 45, 55, 65, 75, 85, 95])\n",
        "out_seq = array([in_seq1[i] + in_seq2[i] for i in range (len(in_seq1))])"
      ],
      "execution_count": 3,
      "outputs": []
    },
    {
      "cell_type": "code",
      "metadata": {
        "id": "I-0XZdb_5a0d"
      },
      "source": [
        "#Convert into rows and column \n",
        "in_seq1 = in_seq1.reshape((len(in_seq1), 1))\n",
        "in_seq2 = in_seq2.reshape((len(in_seq2), 1))\n",
        "out_seq = out_seq.reshape((len(out_seq), 1))"
      ],
      "execution_count": 4,
      "outputs": []
    },
    {
      "cell_type": "code",
      "metadata": {
        "id": "dRFurrKq5dDL"
      },
      "source": [
        "#Horizontal stack\n",
        "dataset = hstack((in_seq1, in_seq2, out_seq))"
      ],
      "execution_count": 5,
      "outputs": []
    },
    {
      "cell_type": "code",
      "metadata": {
        "id": "xpAsYcfz5e4X"
      },
      "source": [
        "#define n_steps_in and n_steps_out\n",
        "n_steps_in, n_steps_out = 3,2"
      ],
      "execution_count": 6,
      "outputs": []
    },
    {
      "cell_type": "code",
      "metadata": {
        "id": "ebkRisZG5g-t"
      },
      "source": [
        "#Split into X and y dataset\n",
        "X, y = split_sequence(dataset, n_steps_in, n_steps_out)"
      ],
      "execution_count": 32,
      "outputs": []
    },
    {
      "cell_type": "code",
      "metadata": {
        "colab": {
          "base_uri": "https://localhost:8080/"
        },
        "id": "SmVhrStv5kec",
        "outputId": "ea7b7dcc-61f5-4062-ef90-a8db98733cfd"
      },
      "source": [
        "#Explore X and y \n",
        "print(X.shape, y.shape)\n",
        "for i in range(len(X)):\n",
        "  print(X[i],y[i])\n"
      ],
      "execution_count": 33,
      "outputs": [
        {
          "output_type": "stream",
          "text": [
            "(5, 3, 3) (5, 2, 3)\n",
            "[[10 15 25]\n",
            " [20 25 45]\n",
            " [30 35 65]] [[ 40  45  85]\n",
            " [ 50  55 105]]\n",
            "[[20 25 45]\n",
            " [30 35 65]\n",
            " [40 45 85]] [[ 50  55 105]\n",
            " [ 60  65 125]]\n",
            "[[ 30  35  65]\n",
            " [ 40  45  85]\n",
            " [ 50  55 105]] [[ 60  65 125]\n",
            " [ 70  75 145]]\n",
            "[[ 40  45  85]\n",
            " [ 50  55 105]\n",
            " [ 60  65 125]] [[ 70  75 145]\n",
            " [ 80  85 165]]\n",
            "[[ 50  55 105]\n",
            " [ 60  65 125]\n",
            " [ 70  75 145]] [[ 80  85 165]\n",
            " [ 90  95 185]]\n"
          ],
          "name": "stdout"
        }
      ]
    },
    {
      "cell_type": "code",
      "metadata": {
        "id": "-jdjeaaz5ygg"
      },
      "source": [
        "#Flatten output for merge y + 1 and y + 2 (2D structure)\n",
        "n_output = y.shape[1] * y.shape[2]\n",
        "y = y.reshape((y.shape[0], n_output))"
      ],
      "execution_count": 36,
      "outputs": []
    },
    {
      "cell_type": "code",
      "metadata": {
        "id": "I_rvIxJyMUWw"
      },
      "source": [
        "#Define n_feature\n",
        "n_feature = X.shape[2]"
      ],
      "execution_count": 38,
      "outputs": []
    },
    {
      "cell_type": "code",
      "metadata": {
        "id": "8jD0FDfg77_y"
      },
      "source": [
        "model = Sequential()\n",
        "model.add(Conv1D(filters= 64, kernel_size= 2, activation= 'relu', input_shape = (n_steps_in, n_feature)))\n",
        "model.add(MaxPooling1D(pool_size= 2))\n",
        "model.add(Flatten())\n",
        "model.add(Dense(50, activation= 'relu'))\n",
        "model.add(Dense(n_output))\n",
        "model.compile(optimizer = 'adam', loss = 'mse')"
      ],
      "execution_count": 41,
      "outputs": []
    },
    {
      "cell_type": "code",
      "metadata": {
        "colab": {
          "base_uri": "https://localhost:8080/"
        },
        "id": "25I30V17M6qm",
        "outputId": "c4663922-af5b-462f-8fbd-c8f2910d5ed1"
      },
      "source": [
        "model.summary()"
      ],
      "execution_count": 42,
      "outputs": [
        {
          "output_type": "stream",
          "text": [
            "Model: \"sequential_1\"\n",
            "_________________________________________________________________\n",
            "Layer (type)                 Output Shape              Param #   \n",
            "=================================================================\n",
            "conv1d_1 (Conv1D)            (None, 2, 64)             448       \n",
            "_________________________________________________________________\n",
            "max_pooling1d_1 (MaxPooling1 (None, 1, 64)             0         \n",
            "_________________________________________________________________\n",
            "flatten_1 (Flatten)          (None, 64)                0         \n",
            "_________________________________________________________________\n",
            "dense_2 (Dense)              (None, 50)                3250      \n",
            "_________________________________________________________________\n",
            "dense_3 (Dense)              (None, 6)                 306       \n",
            "=================================================================\n",
            "Total params: 4,004\n",
            "Trainable params: 4,004\n",
            "Non-trainable params: 0\n",
            "_________________________________________________________________\n"
          ],
          "name": "stdout"
        }
      ]
    },
    {
      "cell_type": "code",
      "metadata": {
        "colab": {
          "base_uri": "https://localhost:8080/"
        },
        "id": "fj9mtrDKM-dJ",
        "outputId": "3ffe06cb-6f9b-49d7-e9bd-a99230d4f9ce"
      },
      "source": [
        "#Fit model\n",
        "model.fit(X, y, epochs= 7000, verbose= 0)"
      ],
      "execution_count": 44,
      "outputs": [
        {
          "output_type": "execute_result",
          "data": {
            "text/plain": [
              "<tensorflow.python.keras.callbacks.History at 0x7efdb674c790>"
            ]
          },
          "metadata": {
            "tags": []
          },
          "execution_count": 44
        }
      ]
    },
    {
      "cell_type": "code",
      "metadata": {
        "colab": {
          "base_uri": "https://localhost:8080/"
        },
        "id": "gVlhlLMPNPJi",
        "outputId": "5f52e37b-02d4-4b18-9e54-b2d0e0a8e9eb"
      },
      "source": [
        "#Demonstrate prediction\n",
        "input_x = dataset[6:10, :]\n",
        "input_x = input_x.reshape((1, n_steps_in, n_feature))\n",
        "y_hat = model.predict(input_x, verbose = 0)\n",
        "print(y_hat)"
      ],
      "execution_count": 48,
      "outputs": [
        {
          "output_type": "stream",
          "text": [
            "[[101.52633  107.70149  208.96167  112.52589  118.491135 231.39867 ]]\n"
          ],
          "name": "stdout"
        }
      ]
    }
  ]
}