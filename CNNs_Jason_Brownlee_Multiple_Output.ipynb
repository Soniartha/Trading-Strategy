{
  "nbformat": 4,
  "nbformat_minor": 0,
  "metadata": {
    "colab": {
      "name": "CNNs_Jason Brownlee_Multiple Output.ipynb",
      "provenance": [],
      "authorship_tag": "ABX9TyMFgOSMvXb2lL6hx06YAWEs"
    },
    "kernelspec": {
      "name": "python3",
      "display_name": "Python 3"
    },
    "language_info": {
      "name": "python"
    }
  },
  "cells": [
    {
      "cell_type": "code",
      "metadata": {
        "id": "zXqwc9BIvirB"
      },
      "source": [
        "#Import library\n",
        "from numpy import array\n",
        "from numpy import hstack\n",
        "from keras.models import Model\n",
        "from keras.layers import Input\n",
        "from keras.layers import Dense\n",
        "from keras.layers import Flatten\n",
        "from keras.layers.convolutional import Conv1D\n",
        "from keras.layers.convolutional import MaxPooling1D "
      ],
      "execution_count": 14,
      "outputs": []
    },
    {
      "cell_type": "code",
      "metadata": {
        "id": "pkISTHO8JWtV"
      },
      "source": [
        "#Define split function to convert sequence into input and output\n",
        "def split_sequence(sequence, n_steps):\n",
        "  X, y = list (), list ()\n",
        "  for i in range(len(sequence)):\n",
        "    end_ix = i + n_steps\n",
        "    if end_ix > len(sequence)-1:\n",
        "      break\n",
        "    seq_x, seq_y = sequence[i: end_ix, :], sequence[end_ix, :]\n",
        "    X.append(seq_x)\n",
        "    y.append(seq_y)\n",
        "  return array(X), array(y)"
      ],
      "execution_count": 2,
      "outputs": []
    },
    {
      "cell_type": "code",
      "metadata": {
        "id": "3wSi7rFWK9ZG"
      },
      "source": [
        "#Define sequence\n",
        "#Define sequence dataset\n",
        "in_seq1 = array([10, 20, 30, 40, 50, 60, 70, 80, 90, 100])\n",
        "in_seq2 = array([in_seq1[i] ** 2 for i in range(len(in_seq1))])\n",
        "in_seq3 = array([in_seq1[i] * 2 for i in range(len(in_seq1))])\n",
        "in_seq4 = array([in_seq1[i] + 5 for i in range(len(in_seq1))])\n",
        "out_seq5 = array([in_seq1[i]+in_seq2[i]+in_seq3[i]+in_seq4[i] for i in range(len(in_seq1))])"
      ],
      "execution_count": 3,
      "outputs": []
    },
    {
      "cell_type": "code",
      "metadata": {
        "id": "E56uCfdpLJ54"
      },
      "source": [
        "#Convert into rows and columns structure / 2D structure\n",
        "in_seq1 = in_seq1.reshape((len(in_seq1), 1))\n",
        "in_seq2 = in_seq2.reshape((len(in_seq2), 1))\n",
        "in_seq3 = in_seq3.reshape((len(in_seq3), 1))\n",
        "in_seq4 = in_seq4.reshape((len(in_seq4), 1))\n",
        "out_seq5 = out_seq5.reshape((len(out_seq5), 1))"
      ],
      "execution_count": 4,
      "outputs": []
    },
    {
      "cell_type": "code",
      "metadata": {
        "id": "-5ECXqPrLNAT"
      },
      "source": [
        "#Horizontal stack\n",
        "dataset = hstack((in_seq1, in_seq2, in_seq3, in_seq4, out_seq5))"
      ],
      "execution_count": 5,
      "outputs": []
    },
    {
      "cell_type": "code",
      "metadata": {
        "id": "T5eyVtf3LP9q"
      },
      "source": [
        "#define n_steps\n",
        "n_steps = 3"
      ],
      "execution_count": 6,
      "outputs": []
    },
    {
      "cell_type": "code",
      "metadata": {
        "id": "V_sQ5TReLSRT"
      },
      "source": [
        "#Split into input (X) and output parallel (Y)\n",
        "X, y = split_sequence(dataset, n_steps)"
      ],
      "execution_count": 9,
      "outputs": []
    },
    {
      "cell_type": "code",
      "metadata": {
        "colab": {
          "base_uri": "https://localhost:8080/"
        },
        "id": "65PuQgSvLUoy",
        "outputId": "88a18873-4949-4e5e-c1d2-64124c7ccdb6"
      },
      "source": [
        "#Explore data X and y\n",
        "print(X.shape, y.shape)\n",
        "for i in range(len(X)):\n",
        "  print(X[i], y[i])"
      ],
      "execution_count": 10,
      "outputs": [
        {
          "output_type": "stream",
          "text": [
            "(7, 3, 5) (7, 5)\n",
            "[[  10  100   20   15  145]\n",
            " [  20  400   40   25  485]\n",
            " [  30  900   60   35 1025]] [  40 1600   80   45 1765]\n",
            "[[  20  400   40   25  485]\n",
            " [  30  900   60   35 1025]\n",
            " [  40 1600   80   45 1765]] [  50 2500  100   55 2705]\n",
            "[[  30  900   60   35 1025]\n",
            " [  40 1600   80   45 1765]\n",
            " [  50 2500  100   55 2705]] [  60 3600  120   65 3845]\n",
            "[[  40 1600   80   45 1765]\n",
            " [  50 2500  100   55 2705]\n",
            " [  60 3600  120   65 3845]] [  70 4900  140   75 5185]\n",
            "[[  50 2500  100   55 2705]\n",
            " [  60 3600  120   65 3845]\n",
            " [  70 4900  140   75 5185]] [  80 6400  160   85 6725]\n",
            "[[  60 3600  120   65 3845]\n",
            " [  70 4900  140   75 5185]\n",
            " [  80 6400  160   85 6725]] [  90 8100  180   95 8465]\n",
            "[[  70 4900  140   75 5185]\n",
            " [  80 6400  160   85 6725]\n",
            " [  90 8100  180   95 8465]] [  100 10000   200   105 10405]\n"
          ],
          "name": "stdout"
        }
      ]
    },
    {
      "cell_type": "code",
      "metadata": {
        "id": "Sd6sWVg0L5tP"
      },
      "source": [
        "#define n_feature\n",
        "n_feature = X.shape[2]"
      ],
      "execution_count": 11,
      "outputs": []
    },
    {
      "cell_type": "code",
      "metadata": {
        "id": "_sF_5TnYMWPH"
      },
      "source": [
        "#Separate output\n",
        "y1 = y[:, 0].reshape((y.shape[0], 1))\n",
        "y2 = y[:, 1].reshape((y.shape[0], 1))\n",
        "y3 = y[:, 2].reshape((y.shape[0], 1))"
      ],
      "execution_count": 24,
      "outputs": []
    },
    {
      "cell_type": "code",
      "metadata": {
        "id": "CYjMIQBTM3j-"
      },
      "source": [
        "visible = Input(shape = (n_steps, n_feature))\n",
        "cnn = Conv1D(filters= 64, kernel_size=2, activation= 'relu')(visible)\n",
        "cnn = MaxPooling1D(pool_size= 2)(cnn)\n",
        "cnn = Flatten()(cnn)\n",
        "cnn = Dense(50, activation= 'relu')(cnn)"
      ],
      "execution_count": 18,
      "outputs": []
    },
    {
      "cell_type": "code",
      "metadata": {
        "id": "gUCyWSIoNhR4"
      },
      "source": [
        "#define output 1\n",
        "output_1 = Dense(1)(cnn)"
      ],
      "execution_count": 19,
      "outputs": []
    },
    {
      "cell_type": "code",
      "metadata": {
        "id": "8P--pjaXN7QW"
      },
      "source": [
        "#define oupput 2\n",
        "output_2 = Dense(1)(cnn)"
      ],
      "execution_count": 20,
      "outputs": []
    },
    {
      "cell_type": "code",
      "metadata": {
        "id": "quX3HDkSOFzK"
      },
      "source": [
        "#define output 3\n",
        "output_3 = Dense(1)(cnn)"
      ],
      "execution_count": 21,
      "outputs": []
    },
    {
      "cell_type": "code",
      "metadata": {
        "id": "s76RqpZ-OLiL"
      },
      "source": [
        "#Tile together \n",
        "model = Model(inputs = visible, outputs = [output_1, output_2, output_3])\n",
        "model.compile(optimizer = 'adam', loss = 'mse')"
      ],
      "execution_count": 22,
      "outputs": []
    },
    {
      "cell_type": "code",
      "metadata": {
        "colab": {
          "base_uri": "https://localhost:8080/"
        },
        "id": "JRCQNjxjOj9W",
        "outputId": "d7c423da-0e6a-49d2-eb6b-920d5e2cf975"
      },
      "source": [
        "#fit model\n",
        "model.fit(X,[y1, y2, y3], epochs= 1000, verbose= 0)"
      ],
      "execution_count": 25,
      "outputs": [
        {
          "output_type": "execute_result",
          "data": {
            "text/plain": [
              "<tensorflow.python.keras.callbacks.History at 0x7f94285ea110>"
            ]
          },
          "metadata": {
            "tags": []
          },
          "execution_count": 25
        }
      ]
    },
    {
      "cell_type": "code",
      "metadata": {
        "colab": {
          "base_uri": "https://localhost:8080/"
        },
        "id": "TwxhOjyyOy-j",
        "outputId": "3176ba8f-2fc9-481b-f40e-b01162ef0a27"
      },
      "source": [
        "#Explore the model\n",
        "print(model.summary())"
      ],
      "execution_count": 27,
      "outputs": [
        {
          "output_type": "stream",
          "text": [
            "Model: \"model\"\n",
            "__________________________________________________________________________________________________\n",
            "Layer (type)                    Output Shape         Param #     Connected to                     \n",
            "==================================================================================================\n",
            "input_2 (InputLayer)            [(None, 3, 5)]       0                                            \n",
            "__________________________________________________________________________________________________\n",
            "conv1d_1 (Conv1D)               (None, 2, 64)        704         input_2[0][0]                    \n",
            "__________________________________________________________________________________________________\n",
            "max_pooling1d_1 (MaxPooling1D)  (None, 1, 64)        0           conv1d_1[0][0]                   \n",
            "__________________________________________________________________________________________________\n",
            "flatten_1 (Flatten)             (None, 64)           0           max_pooling1d_1[0][0]            \n",
            "__________________________________________________________________________________________________\n",
            "dense_2 (Dense)                 (None, 50)           3250        flatten_1[0][0]                  \n",
            "__________________________________________________________________________________________________\n",
            "dense_3 (Dense)                 (None, 1)            51          dense_2[0][0]                    \n",
            "__________________________________________________________________________________________________\n",
            "dense_4 (Dense)                 (None, 1)            51          dense_2[0][0]                    \n",
            "__________________________________________________________________________________________________\n",
            "dense_5 (Dense)                 (None, 1)            51          dense_2[0][0]                    \n",
            "==================================================================================================\n",
            "Total params: 4,107\n",
            "Trainable params: 4,107\n",
            "Non-trainable params: 0\n",
            "__________________________________________________________________________________________________\n",
            "None\n"
          ],
          "name": "stdout"
        }
      ]
    },
    {
      "cell_type": "code",
      "metadata": {
        "colab": {
          "base_uri": "https://localhost:8080/"
        },
        "id": "TjvfiMmQPDWR",
        "outputId": "c870dc99-40a8-4316-84b9-d9301d589787"
      },
      "source": [
        "#Demonstrate prediction\n",
        "x_input = dataset[7:10, :]\n",
        "x_input = x_input.reshape(1, n_steps, n_feature)\n",
        "y_hat = model.predict(x_input, verbose = 0)\n",
        "print(y_hat)"
      ],
      "execution_count": 32,
      "outputs": [
        {
          "output_type": "stream",
          "text": [
            "[array([[145.0355]], dtype=float32), array([[12137.401]], dtype=float32), array([[200.19827]], dtype=float32)]\n"
          ],
          "name": "stdout"
        }
      ]
    },
    {
      "cell_type": "code",
      "metadata": {
        "colab": {
          "base_uri": "https://localhost:8080/"
        },
        "id": "xdORpjsCQRUx",
        "outputId": "23242c9e-8bf2-45ca-8f36-4f0585da5fba"
      },
      "source": [
        "predict = list(y_hat)\n",
        "print(predict[1])"
      ],
      "execution_count": 35,
      "outputs": [
        {
          "output_type": "stream",
          "text": [
            "[[12137.401]]\n"
          ],
          "name": "stdout"
        }
      ]
    }
  ]
}