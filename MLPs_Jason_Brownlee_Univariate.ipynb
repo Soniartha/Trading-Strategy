{
  "nbformat": 4,
  "nbformat_minor": 0,
  "metadata": {
    "colab": {
      "name": "MLPs_Jason Brownlee_Univariate.ipynb",
      "provenance": [],
      "collapsed_sections": [],
      "authorship_tag": "ABX9TyMzNb3FjAd40hXJNyMu1mUO",
      "include_colab_link": true
    },
    "kernelspec": {
      "name": "python3",
      "display_name": "Python 3"
    },
    "language_info": {
      "name": "python"
    }
  },
  "cells": [
    {
      "cell_type": "markdown",
      "metadata": {
        "id": "view-in-github",
        "colab_type": "text"
      },
      "source": [
        "<a href=\"https://colab.research.google.com/github/Soniartha/Trading-Strategy/blob/main/MLPs_Jason_Brownlee_Univariate.ipynb\" target=\"_parent\"><img src=\"https://colab.research.google.com/assets/colab-badge.svg\" alt=\"Open In Colab\"/></a>"
      ]
    },
    {
      "cell_type": "code",
      "metadata": {
        "id": "2Tn5nmV7R6ec"
      },
      "source": [
        "#Import library\n",
        "from numpy import array\n",
        "from keras.models import Sequential\n",
        "from keras.layers import Dense"
      ],
      "execution_count": 2,
      "outputs": []
    },
    {
      "cell_type": "code",
      "metadata": {
        "id": "FVSdjlhuSuu_"
      },
      "source": [
        "#Split a univariate sequence in to samples\n",
        "def split_sequence(sequence,n_steps):\n",
        "  X, y = list (), list ()\n",
        "  for i in range (len(sequence)):\n",
        "    #find the end of this pattern\n",
        "    end_ix = i + n_steps\n",
        "    #check if we are beyond the sequence\n",
        "    if end_ix > len(sequence)-1:\n",
        "      break\n",
        "    #gather input and output parts of the pattern\n",
        "    seq_x, seq_y = sequence[i:end_ix], sequence[end_ix]\n",
        "    X.append(seq_x)\n",
        "    y.append(seq_y)\n",
        "  return array(X), array(y)\n"
      ],
      "execution_count": 11,
      "outputs": []
    },
    {
      "cell_type": "code",
      "metadata": {
        "id": "lshFjrV7VGi7"
      },
      "source": [
        "#Define a sequence\n",
        "series = [20, 40, 60, 80, 100, 120, 140, 160, 180]"
      ],
      "execution_count": 12,
      "outputs": []
    },
    {
      "cell_type": "code",
      "metadata": {
        "id": "-5Y5t-joVcRw"
      },
      "source": [
        "#Define n_steps\n",
        "n_step = 3"
      ],
      "execution_count": 5,
      "outputs": []
    },
    {
      "cell_type": "code",
      "metadata": {
        "colab": {
          "base_uri": "https://localhost:8080/"
        },
        "id": "U6rrvUNbVrEs",
        "outputId": "a350eb60-d216-4346-98ec-cc0857cfbd30"
      },
      "source": [
        "#Split in to supervised learning sample\n",
        "X,y = split_sequence(series, n_step)\n",
        "for i in range (len(X)):\n",
        "  print(X[i], y[i])\n"
      ],
      "execution_count": 15,
      "outputs": [
        {
          "output_type": "stream",
          "text": [
            "[20 40 60] 80\n",
            "[40 60 80] 100\n",
            "[ 60  80 100] 120\n",
            "[ 80 100 120] 140\n",
            "[100 120 140] 160\n",
            "[120 140 160] 180\n"
          ],
          "name": "stdout"
        }
      ]
    },
    {
      "cell_type": "code",
      "metadata": {
        "id": "FaoK5TQ7XRnG"
      },
      "source": [
        "#Multilayer Perceptron (MLP)\n",
        "model = Sequential()\n",
        "model.add(Dense(100, activation= 'relu', input_dim = n_step))\n",
        "model.add(Dense(36))\n",
        "model.add(Dense(1))\n",
        "model.compile(optimizer='adam', loss='mse')"
      ],
      "execution_count": 29,
      "outputs": []
    },
    {
      "cell_type": "code",
      "metadata": {
        "colab": {
          "base_uri": "https://localhost:8080/"
        },
        "id": "G-I3SyfxYLTW",
        "outputId": "431ced27-28e1-4c73-b07d-89de70439d46"
      },
      "source": [
        "model.summary()"
      ],
      "execution_count": 30,
      "outputs": [
        {
          "output_type": "stream",
          "text": [
            "Model: \"sequential_1\"\n",
            "_________________________________________________________________\n",
            "Layer (type)                 Output Shape              Param #   \n",
            "=================================================================\n",
            "dense_3 (Dense)              (None, 100)               400       \n",
            "_________________________________________________________________\n",
            "dense_4 (Dense)              (None, 36)                3636      \n",
            "_________________________________________________________________\n",
            "dense_5 (Dense)              (None, 1)                 37        \n",
            "=================================================================\n",
            "Total params: 4,073\n",
            "Trainable params: 4,073\n",
            "Non-trainable params: 0\n",
            "_________________________________________________________________\n"
          ],
          "name": "stdout"
        }
      ]
    },
    {
      "cell_type": "code",
      "metadata": {
        "colab": {
          "base_uri": "https://localhost:8080/"
        },
        "id": "bEw4uBJ-YS9P",
        "outputId": "d017d699-fcae-48ad-c10b-85434970af52"
      },
      "source": [
        "#fit model\n",
        "model.fit(X, y, epochs=2000, verbose=0)"
      ],
      "execution_count": 31,
      "outputs": [
        {
          "output_type": "execute_result",
          "data": {
            "text/plain": [
              "<tensorflow.python.keras.callbacks.History at 0x7f517947fbd0>"
            ]
          },
          "metadata": {
            "tags": []
          },
          "execution_count": 31
        }
      ]
    },
    {
      "cell_type": "code",
      "metadata": {
        "colab": {
          "base_uri": "https://localhost:8080/"
        },
        "id": "pLsvcf8QYb_z",
        "outputId": "ea755444-06b9-40c2-dffb-122e308548f7"
      },
      "source": [
        "x_input = array([140, 160, 180])\n",
        "x_input = x_input.reshape((1, n_step))\n",
        "y_hat = model.predict(x_input, verbose=0)\n",
        "print(y_hat)"
      ],
      "execution_count": 32,
      "outputs": [
        {
          "output_type": "stream",
          "text": [
            "[[204.77031]]\n"
          ],
          "name": "stdout"
        }
      ]
    }
  ]
}