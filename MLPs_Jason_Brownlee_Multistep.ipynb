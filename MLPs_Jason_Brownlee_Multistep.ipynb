{
  "nbformat": 4,
  "nbformat_minor": 0,
  "metadata": {
    "colab": {
      "name": "MLPs_Jason Brownlee_Multistep.ipynb",
      "provenance": [],
      "authorship_tag": "ABX9TyPueYSBeuYTjbg0OfcVgw1H",
      "include_colab_link": true
    },
    "kernelspec": {
      "name": "python3",
      "display_name": "Python 3"
    },
    "language_info": {
      "name": "python"
    }
  },
  "cells": [
    {
      "cell_type": "markdown",
      "metadata": {
        "id": "view-in-github",
        "colab_type": "text"
      },
      "source": [
        "<a href=\"https://colab.research.google.com/github/Soniartha/Trading-Strategy/blob/main/MLPs_Jason_Brownlee_Multistep.ipynb\" target=\"_parent\"><img src=\"https://colab.research.google.com/assets/colab-badge.svg\" alt=\"Open In Colab\"/></a>"
      ]
    },
    {
      "cell_type": "code",
      "metadata": {
        "id": "e4r_vCjtybDC"
      },
      "source": [
        "#Import library\n",
        "from numpy import array\n",
        "from keras.models import Sequential\n",
        "from keras.layers import Dense"
      ],
      "execution_count": 1,
      "outputs": []
    },
    {
      "cell_type": "code",
      "metadata": {
        "id": "XpkK86FByuT6"
      },
      "source": [
        "#Split a univariate sequence into sample\n",
        "def split_sequence(sequence, n_steps, n_steps_out):\n",
        "  X, y = list (), list ()\n",
        "  for i in range(len(sequence)):\n",
        "    #find the end of this pattern\n",
        "    end_ix = i + n_steps\n",
        "    out_end_ix = end_ix + n_steps_out\n",
        "    #check if we are beyond the sequence\n",
        "    if out_end_ix > len(sequence):\n",
        "      break\n",
        "    #gather into input and output in this part\n",
        "    seq_x, seq_y = sequence[i:end_ix], sequence[end_ix:out_end_ix]\n",
        "    X.append(seq_x)\n",
        "    y.append(seq_y)\n",
        "  return array(X), array(y)"
      ],
      "execution_count": 29,
      "outputs": []
    },
    {
      "cell_type": "code",
      "metadata": {
        "id": "Gkmkfem2yw4_"
      },
      "source": [
        "#Define input sequence\n",
        "series = [1,2,3,4,5,6,7,8,9]"
      ],
      "execution_count": 30,
      "outputs": []
    },
    {
      "cell_type": "code",
      "metadata": {
        "id": "QBD_3NDzy2ZZ"
      },
      "source": [
        "#Choose n_steps and n_steps_out\n",
        "n_steps = 3\n",
        "n_steps_out = 2"
      ],
      "execution_count": 31,
      "outputs": []
    },
    {
      "cell_type": "code",
      "metadata": {
        "colab": {
          "base_uri": "https://localhost:8080/"
        },
        "id": "cPr3HDFHy5_r",
        "outputId": "c35c98ef-62aa-47af-b292-0ebca4790b59"
      },
      "source": [
        "#Split into sample\n",
        "X, y = split_sequence(series, n_steps, n_steps_out)\n",
        "\n",
        "#Summarize the data\n",
        "for i in range (len(X)):\n",
        "  print(X[i], y[i])"
      ],
      "execution_count": 33,
      "outputs": [
        {
          "output_type": "stream",
          "text": [
            "[1 2 3] [4 5]\n",
            "[2 3 4] [5 6]\n",
            "[3 4 5] [6 7]\n",
            "[4 5 6] [7 8]\n",
            "[5 6 7] [8 9]\n"
          ],
          "name": "stdout"
        }
      ]
    },
    {
      "cell_type": "code",
      "metadata": {
        "id": "iGvJkPlny9z_"
      },
      "source": [
        "model =Sequential()\n",
        "model.add(Dense(100, activation='relu', input_dim = n_steps))\n",
        "model.add(Dense(n_steps_out))\n",
        "model.compile(optimizer = 'adam', loss = 'mse')"
      ],
      "execution_count": 39,
      "outputs": []
    },
    {
      "cell_type": "code",
      "metadata": {
        "colab": {
          "base_uri": "https://localhost:8080/"
        },
        "id": "OTRyLEiMCu6B",
        "outputId": "fdff1d4f-04d4-43d5-83bd-27a7f690df15"
      },
      "source": [
        "#Fit the model\n",
        "model.fit(X,y, epochs= 2000, verbose=0)"
      ],
      "execution_count": 40,
      "outputs": [
        {
          "output_type": "execute_result",
          "data": {
            "text/plain": [
              "<tensorflow.python.keras.callbacks.History at 0x7f5781d40350>"
            ]
          },
          "metadata": {
            "tags": []
          },
          "execution_count": 40
        }
      ]
    },
    {
      "cell_type": "code",
      "metadata": {
        "colab": {
          "base_uri": "https://localhost:8080/"
        },
        "id": "7SE3k8UnDBXk",
        "outputId": "b14a22c6-6699-405a-8507-e7cfbafb080e"
      },
      "source": [
        "#Demonstrate the prediction\n",
        "x_input = array([7, 8, 9])\n",
        "x_input = x_input.reshape((1, n_steps))\n",
        "y_hat = model.predict(x_input,verbose=0)\n",
        "print(y_hat)"
      ],
      "execution_count": 42,
      "outputs": [
        {
          "output_type": "stream",
          "text": [
            "[[ 9.9998665 11.049721 ]]\n"
          ],
          "name": "stdout"
        }
      ]
    }
  ]
}