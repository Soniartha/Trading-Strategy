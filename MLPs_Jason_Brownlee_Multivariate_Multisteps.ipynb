{
  "nbformat": 4,
  "nbformat_minor": 0,
  "metadata": {
    "colab": {
      "name": "MLPs_Jason Brownlee_Multivariate_Multisteps.ipynb",
      "provenance": [],
      "authorship_tag": "ABX9TyP573C6/alUTIk7Awt60ZeB",
      "include_colab_link": true
    },
    "kernelspec": {
      "name": "python3",
      "display_name": "Python 3"
    },
    "language_info": {
      "name": "python"
    }
  },
  "cells": [
    {
      "cell_type": "markdown",
      "metadata": {
        "id": "view-in-github",
        "colab_type": "text"
      },
      "source": [
        "<a href=\"https://colab.research.google.com/github/Soniartha/Trading-Strategy/blob/main/MLPs_Jason_Brownlee_Multivariate_Multisteps.ipynb\" target=\"_parent\"><img src=\"https://colab.research.google.com/assets/colab-badge.svg\" alt=\"Open In Colab\"/></a>"
      ]
    },
    {
      "cell_type": "code",
      "metadata": {
        "id": "wD6dDilOFfyy"
      },
      "source": [
        "#Import Library\n",
        "from numpy import array\n",
        "from numpy import hstack\n",
        "from keras.models import Sequential\n",
        "from keras.layers import Dense"
      ],
      "execution_count": 5,
      "outputs": []
    },
    {
      "cell_type": "code",
      "metadata": {
        "id": "dRkYhN3VF1Fh"
      },
      "source": [
        "#Define function for split multivariate into sample\n",
        "def split_sequence(sequence, n_steps_in, n_steps_out):\n",
        "  X, y = list (), list ()\n",
        "  for i in range (len(sequence)):\n",
        "    end_ix = i + n_steps_in\n",
        "    out_end_ix = end_ix + n_steps_out\n",
        "    if out_end_ix > len(sequence):\n",
        "      break\n",
        "    seq_x, seq_y = sequence[i:end_ix, :-1], sequence[end_ix: out_end_ix, -1]\n",
        "    X.append(seq_x)\n",
        "    y.append(seq_y)\n",
        "  return array(X), array(y)"
      ],
      "execution_count": 13,
      "outputs": []
    },
    {
      "cell_type": "code",
      "metadata": {
        "id": "JEwy1eu4IkLr"
      },
      "source": [
        "#Define sequental dataset // list and array\n",
        "in_seq1  = array([10, 20, 30, 40, 50, 60, 70, 80, 90])\n",
        "in_seq2 = array([15, 25, 35, 45, 55, 65, 75, 85, 95])\n",
        "out_seq = array([in_seq1[i] + in_seq2[i] for i in range (len(in_seq1))])"
      ],
      "execution_count": 7,
      "outputs": []
    },
    {
      "cell_type": "code",
      "metadata": {
        "id": "FGzFXCkIJIX4"
      },
      "source": [
        "#Convert into rows and columng structure (2 Dimensional Structure)// tuple\n",
        "in_seq1 = in_seq1.reshape((len(in_seq1), 1))\n",
        "in_seq2 = in_seq2.reshape((len(in_seq2), 1))\n",
        "out_seq = out_seq.reshape((len(out_seq), 1))"
      ],
      "execution_count": 8,
      "outputs": []
    },
    {
      "cell_type": "code",
      "metadata": {
        "id": "wtG5TORjJnuE"
      },
      "source": [
        "#Horizontal stack // tuple\n",
        "dataset = hstack((in_seq1, in_seq2, out_seq))"
      ],
      "execution_count": 9,
      "outputs": []
    },
    {
      "cell_type": "code",
      "metadata": {
        "id": "NKGcJyXOJ5fH"
      },
      "source": [
        "#define n_steps_in and n_steps_out\n",
        "n_steps_in, n_steps_out = 3,2"
      ],
      "execution_count": 11,
      "outputs": []
    },
    {
      "cell_type": "code",
      "metadata": {
        "id": "D7WFmCS9KItQ"
      },
      "source": [
        "#Split multivariate into supervised learning \n",
        "X, y = split_sequence(dataset, n_steps_in, n_steps_out)"
      ],
      "execution_count": 30,
      "outputs": []
    },
    {
      "cell_type": "code",
      "metadata": {
        "colab": {
          "base_uri": "https://localhost:8080/"
        },
        "id": "YS7kUmyGKbPL",
        "outputId": "90ace27c-a5a7-40bd-9c54-04ad9859fa5d"
      },
      "source": [
        "#Display data\n",
        "print(X.shape)\n",
        "for i in range (len(X)):\n",
        "  print(X[i], y[i])"
      ],
      "execution_count": 31,
      "outputs": [
        {
          "output_type": "stream",
          "text": [
            "(5, 3, 2)\n",
            "[[10 15]\n",
            " [20 25]\n",
            " [30 35]] [ 85 105]\n",
            "[[20 25]\n",
            " [30 35]\n",
            " [40 45]] [105 125]\n",
            "[[30 35]\n",
            " [40 45]\n",
            " [50 55]] [125 145]\n",
            "[[40 45]\n",
            " [50 55]\n",
            " [60 65]] [145 165]\n",
            "[[50 55]\n",
            " [60 65]\n",
            " [70 75]] [165 185]\n"
          ],
          "name": "stdout"
        }
      ]
    },
    {
      "cell_type": "code",
      "metadata": {
        "colab": {
          "base_uri": "https://localhost:8080/"
        },
        "id": "t22vSW11LqHC",
        "outputId": "fa71b1dd-1c95-40de-8767-63d90b651c8f"
      },
      "source": [
        "#Flatten input\n",
        "x_input = X.shape[1] * X.shape[2]\n",
        "X = X.reshape((X.shape[0], x_input))\n",
        "X"
      ],
      "execution_count": 32,
      "outputs": [
        {
          "output_type": "execute_result",
          "data": {
            "text/plain": [
              "array([[10, 15, 20, 25, 30, 35],\n",
              "       [20, 25, 30, 35, 40, 45],\n",
              "       [30, 35, 40, 45, 50, 55],\n",
              "       [40, 45, 50, 55, 60, 65],\n",
              "       [50, 55, 60, 65, 70, 75]])"
            ]
          },
          "metadata": {
            "tags": []
          },
          "execution_count": 32
        }
      ]
    },
    {
      "cell_type": "code",
      "metadata": {
        "id": "k478hwrGKoht"
      },
      "source": [
        "#Define model\n",
        "model = Sequential()\n",
        "model.add(Dense(100, activation= 'relu', input_dim = x_input))\n",
        "model.add(Dense(n_steps_out))\n",
        "model.compile(optimizer = 'adam', loss = 'mse')"
      ],
      "execution_count": 33,
      "outputs": []
    },
    {
      "cell_type": "code",
      "metadata": {
        "colab": {
          "base_uri": "https://localhost:8080/"
        },
        "id": "K_Id7Y3aK_v5",
        "outputId": "ec6d0114-e228-45bf-82b5-0e5b1d90d405"
      },
      "source": [
        "#fit model\n",
        "model.fit(X, y, epochs = 2000, verbose= 0)"
      ],
      "execution_count": 34,
      "outputs": [
        {
          "output_type": "execute_result",
          "data": {
            "text/plain": [
              "<tensorflow.python.keras.callbacks.History at 0x7f39bc544490>"
            ]
          },
          "metadata": {
            "tags": []
          },
          "execution_count": 34
        }
      ]
    },
    {
      "cell_type": "code",
      "metadata": {
        "colab": {
          "base_uri": "https://localhost:8080/"
        },
        "id": "wMEV2H0uM1Nb",
        "outputId": "b3a75e2c-d922-455c-a4a4-dfe67ca7f885"
      },
      "source": [
        "#Demonstrate the prediction\n",
        "x_data = array([[70, 75], [80, 85], [90,95]])\n",
        "x_data = x_data.reshape((1, x_input))\n",
        "y_hat = model.predict(x_data, verbose=2)\n",
        "print(y_hat)"
      ],
      "execution_count": 39,
      "outputs": [
        {
          "output_type": "stream",
          "text": [
            "1/1 - 0s\n",
            "[[207.58017 233.15938]]\n"
          ],
          "name": "stdout"
        }
      ]
    }
  ]
}