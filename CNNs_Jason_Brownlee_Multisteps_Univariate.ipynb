{
  "nbformat": 4,
  "nbformat_minor": 0,
  "metadata": {
    "colab": {
      "name": "CNNs_Jason Brownlee_Multisteps Univariate.ipynb",
      "provenance": [],
      "authorship_tag": "ABX9TyO1/yZ3xZrRcJFAorwWpbcx"
    },
    "kernelspec": {
      "name": "python3",
      "display_name": "Python 3"
    },
    "language_info": {
      "name": "python"
    }
  },
  "cells": [
    {
      "cell_type": "code",
      "metadata": {
        "id": "55qG2bhoT6zO"
      },
      "source": [
        "#Import library\n",
        "from numpy import array\n",
        "from keras.models import Sequential\n",
        "from keras.layers.convolutional import Conv1D\n",
        "from keras.layers.convolutional import MaxPooling1D\n",
        "from keras.layers import Flatten\n",
        "from keras.layers import Dense"
      ],
      "execution_count": 12,
      "outputs": []
    },
    {
      "cell_type": "code",
      "metadata": {
        "id": "TMi4YqpQVXhN"
      },
      "source": [
        "#Define split function to convert sequence into X and y \n",
        "def split_sequence(sequence, n_steps_in, n_steps_out):\n",
        "  X, y = list (), list ()\n",
        "  for i in range (len(sequence)):\n",
        "    end_ix = i + n_steps_in\n",
        "    out_end_ix = end_ix + n_steps_out\n",
        "    if out_end_ix > len(sequence):\n",
        "      break\n",
        "    seq_x, seq_y = sequence[i: end_ix], sequence[end_ix : out_end_ix]\n",
        "    X.append(seq_x)\n",
        "    y.append(seq_y)\n",
        "  return array(X), array(y)"
      ],
      "execution_count": 2,
      "outputs": []
    },
    {
      "cell_type": "code",
      "metadata": {
        "id": "711l86bEWpSd"
      },
      "source": [
        "#Define sequence\n",
        "seq = [1,2,3,4,5,6,7,8,9,10]"
      ],
      "execution_count": 3,
      "outputs": []
    },
    {
      "cell_type": "code",
      "metadata": {
        "id": "AfcLCGdBWzwG"
      },
      "source": [
        "#Define n_steps_in and n_steps_out\n",
        "n_steps_in, n_steps_out = 3,2"
      ],
      "execution_count": 4,
      "outputs": []
    },
    {
      "cell_type": "code",
      "metadata": {
        "id": "Lj5Gt3yIXFsG"
      },
      "source": [
        "#Split into X and y structure\n",
        "X, y = split_sequence(seq, n_steps_in, n_steps_out)"
      ],
      "execution_count": 7,
      "outputs": []
    },
    {
      "cell_type": "code",
      "metadata": {
        "colab": {
          "base_uri": "https://localhost:8080/"
        },
        "id": "yTyZo1pZXOas",
        "outputId": "6cbbf6a5-7bea-4559-b578-b836b9c85881"
      },
      "source": [
        "#Explore data x and y\n",
        "print(X.shape, y.shape)\n",
        "for i in range(len(X)):\n",
        "  print(X[i], y[i])"
      ],
      "execution_count": 8,
      "outputs": [
        {
          "output_type": "stream",
          "text": [
            "(6, 3) (6, 2)\n",
            "[1 2 3] [4 5]\n",
            "[2 3 4] [5 6]\n",
            "[3 4 5] [6 7]\n",
            "[4 5 6] [7 8]\n",
            "[5 6 7] [8 9]\n",
            "[6 7 8] [ 9 10]\n"
          ],
          "name": "stdout"
        }
      ]
    },
    {
      "cell_type": "code",
      "metadata": {
        "id": "kzkwOuDpYUcz"
      },
      "source": [
        "#define n_feature\n",
        "n_feature = 1"
      ],
      "execution_count": 9,
      "outputs": []
    },
    {
      "cell_type": "code",
      "metadata": {
        "id": "FhzrF91lXmGs"
      },
      "source": [
        "#Reshape into 3D structure dataset\n",
        "X = X.reshape((X.shape[0], X.shape[1], n_feature))"
      ],
      "execution_count": 10,
      "outputs": []
    },
    {
      "cell_type": "code",
      "metadata": {
        "id": "QEtru7vtYk-T"
      },
      "source": [
        "#define model\n",
        "model = Sequential()\n",
        "model.add(Conv1D(filters= 64, kernel_size= 2, activation= 'relu', input_shape = (n_steps_in, n_feature)))\n",
        "model.add(MaxPooling1D(pool_size= 2))\n",
        "model.add(Flatten())\n",
        "model.add(Dense(50, activation = 'relu'))\n",
        "model.add(Dense(n_steps_out))\n",
        "model.compile(optimizer = 'adam', loss = 'mse')"
      ],
      "execution_count": 16,
      "outputs": []
    },
    {
      "cell_type": "code",
      "metadata": {
        "colab": {
          "base_uri": "https://localhost:8080/"
        },
        "id": "8Ra_VN8saPq2",
        "outputId": "050e459a-457d-4b9b-abe6-524f48417cc5"
      },
      "source": [
        "model.summary()"
      ],
      "execution_count": 17,
      "outputs": [
        {
          "output_type": "stream",
          "text": [
            "Model: \"sequential_2\"\n",
            "_________________________________________________________________\n",
            "Layer (type)                 Output Shape              Param #   \n",
            "=================================================================\n",
            "conv1d_2 (Conv1D)            (None, 2, 64)             192       \n",
            "_________________________________________________________________\n",
            "max_pooling1d_2 (MaxPooling1 (None, 1, 64)             0         \n",
            "_________________________________________________________________\n",
            "flatten_2 (Flatten)          (None, 64)                0         \n",
            "_________________________________________________________________\n",
            "dense_2 (Dense)              (None, 50)                3250      \n",
            "_________________________________________________________________\n",
            "dense_3 (Dense)              (None, 2)                 102       \n",
            "=================================================================\n",
            "Total params: 3,544\n",
            "Trainable params: 3,544\n",
            "Non-trainable params: 0\n",
            "_________________________________________________________________\n"
          ],
          "name": "stdout"
        }
      ]
    },
    {
      "cell_type": "code",
      "metadata": {
        "colab": {
          "base_uri": "https://localhost:8080/"
        },
        "id": "KlokTrowZUDc",
        "outputId": "80549115-6a22-464e-ee91-63b0128969be"
      },
      "source": [
        "#fit model\n",
        "model.fit(X, y, epochs= 2000, verbose= 0)"
      ],
      "execution_count": 21,
      "outputs": [
        {
          "output_type": "execute_result",
          "data": {
            "text/plain": [
              "<tensorflow.python.keras.callbacks.History at 0x7fa4f3b27f10>"
            ]
          },
          "metadata": {
            "tags": []
          },
          "execution_count": 21
        }
      ]
    },
    {
      "cell_type": "code",
      "metadata": {
        "id": "rIwxhj50ZibW"
      },
      "source": [
        "#Demonstrate model to forecast\n",
        "x_input = array([7, 8, 9])\n",
        "x_input = x_input.reshape((1, n_steps_in, n_feature))\n",
        "y_hat = model.predict(x_input, verbose = 0)"
      ],
      "execution_count": 22,
      "outputs": []
    },
    {
      "cell_type": "code",
      "metadata": {
        "colab": {
          "base_uri": "https://localhost:8080/"
        },
        "id": "DgKVT0cpaG35",
        "outputId": "c1753be9-b73d-437a-faf3-8d6f02a90c35"
      },
      "source": [
        "print(y_hat)"
      ],
      "execution_count": 23,
      "outputs": [
        {
          "output_type": "stream",
          "text": [
            "[[10.066288 11.135838]]\n"
          ],
          "name": "stdout"
        }
      ]
    }
  ]
}