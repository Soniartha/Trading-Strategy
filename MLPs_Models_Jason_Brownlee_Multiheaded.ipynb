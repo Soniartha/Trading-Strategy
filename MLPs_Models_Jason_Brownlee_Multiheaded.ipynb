{
  "nbformat": 4,
  "nbformat_minor": 0,
  "metadata": {
    "colab": {
      "name": "MLPs Models_Jason Brownlee_Multiheaded.ipynb",
      "provenance": [],
      "collapsed_sections": [],
      "authorship_tag": "ABX9TyPvio0NQzIDBXU3Ya/CteJR",
      "include_colab_link": true
    },
    "kernelspec": {
      "name": "python3",
      "display_name": "Python 3"
    },
    "language_info": {
      "name": "python"
    }
  },
  "cells": [
    {
      "cell_type": "markdown",
      "metadata": {
        "id": "view-in-github",
        "colab_type": "text"
      },
      "source": [
        "<a href=\"https://colab.research.google.com/github/Soniartha/Trading-Strategy/blob/main/MLPs_Models_Jason_Brownlee_Multiheaded.ipynb\" target=\"_parent\"><img src=\"https://colab.research.google.com/assets/colab-badge.svg\" alt=\"Open In Colab\"/></a>"
      ]
    },
    {
      "cell_type": "code",
      "metadata": {
        "id": "lJPld12XF3jd"
      },
      "source": [
        "#Import library\n",
        "from numpy import array\n",
        "from numpy import hstack\n",
        "from keras.models import Model\n",
        "from keras.layers.merge import concatenate\n",
        "from keras.layers import Dense\n",
        "from keras.layers import Input"
      ],
      "execution_count": null,
      "outputs": []
    },
    {
      "cell_type": "code",
      "metadata": {
        "id": "14cWxf7fccec"
      },
      "source": [
        "#Split a multivariate sequence into sample\n",
        "def split_sequence(sequence, n_steps):\n",
        "  X, y = list (), list ()\n",
        "  for i in range(len(sequence)):\n",
        "    #find the end of this pattern\n",
        "    end_ix = i +  n_steps\n",
        "    #check if we are beyond the sequence\n",
        "    if end_ix > len(sequence)-1:\n",
        "      break\n",
        "    \n",
        "    #gather input and output parts of the pattern\n",
        "    seq_x, seq_y = sequence[i:end_ix, :-1], sequence[end_ix, -1]\n",
        "    X.append(seq_x)\n",
        "    y.append(seq_y)\n",
        "  return array(X), array(y)"
      ],
      "execution_count": null,
      "outputs": []
    },
    {
      "cell_type": "code",
      "metadata": {
        "id": "EQf1kfeMdSeL"
      },
      "source": [
        "#Define the sequence\n",
        "in_seq1 = array([10, 20, 30, 40, 50, 60, 70, 80, 90])\n",
        "in_seq2 = array([15, 25, 35, 45, 55, 65, 75, 85, 95])\n",
        "out_seq = array([in_seq1[i] + in_seq2[i] for i in range (len(in_seq1))])"
      ],
      "execution_count": null,
      "outputs": []
    },
    {
      "cell_type": "code",
      "metadata": {
        "id": "mQwP5vDWfIeP"
      },
      "source": [
        "#Convert into [row, column]/2 dimensional structure\n",
        "in_seq1 = in_seq1.reshape((len(in_seq1),1))\n",
        "in_seq2 = in_seq2.reshape((len(in_seq2),1))\n",
        "out_seq = out_seq.reshape((len(out_seq),1))"
      ],
      "execution_count": null,
      "outputs": []
    },
    {
      "cell_type": "code",
      "metadata": {
        "id": "K06IPYS1gBn_"
      },
      "source": [
        "#Horizontal stack\n",
        "dataset = hstack((in_seq1, in_seq2, out_seq))"
      ],
      "execution_count": null,
      "outputs": []
    },
    {
      "cell_type": "code",
      "metadata": {
        "id": "_GyvxRbegbmf"
      },
      "source": [
        "#define lag depth/ n_steps\n",
        "n_steps = 3"
      ],
      "execution_count": null,
      "outputs": []
    },
    {
      "cell_type": "code",
      "metadata": {
        "id": "fMHyO49mgKSY"
      },
      "source": [
        "#Convert dataset into supervised learning language\n",
        "X, y = split_sequence(dataset, n_steps )"
      ],
      "execution_count": null,
      "outputs": []
    },
    {
      "cell_type": "code",
      "metadata": {
        "id": "YLKy_GSJgrIi"
      },
      "source": [
        "#Separate input\n",
        "X1 = X[:,:,0]\n",
        "X2 = X[:,:,1]"
      ],
      "execution_count": null,
      "outputs": []
    },
    {
      "cell_type": "code",
      "metadata": {
        "id": "h70-8HjCg4GI"
      },
      "source": [
        "#Input 1\n",
        "visible1 = Input(shape=(n_steps,))\n",
        "dense1 = Dense(100, activation= 'relu')(visible1)"
      ],
      "execution_count": null,
      "outputs": []
    },
    {
      "cell_type": "code",
      "metadata": {
        "id": "N1XOZWaYhOTY"
      },
      "source": [
        "#Input 2\n",
        "visible2 = Input(shape= (n_steps,))\n",
        "dense2 = Dense(100, activation= 'relu')(visible2)"
      ],
      "execution_count": null,
      "outputs": []
    },
    {
      "cell_type": "code",
      "metadata": {
        "id": "werBU6yyhaH1"
      },
      "source": [
        "#Merge input model with concatenate\n",
        "merge = concatenate([dense1, dense2])\n",
        "output = Dense(1)(merge)"
      ],
      "execution_count": null,
      "outputs": []
    },
    {
      "cell_type": "code",
      "metadata": {
        "id": "uUDvUOtDiD6J"
      },
      "source": [
        "#Define model\n",
        "model = Model(inputs= [visible1, visible2], outputs = output)\n",
        "model.compile(optimizer = 'adam', loss = 'mse', metrics='accuracy')"
      ],
      "execution_count": null,
      "outputs": []
    },
    {
      "cell_type": "code",
      "metadata": {
        "id": "4-9NkE3swzQ3"
      },
      "source": [
        "#Fit Model\n",
        "model.fit([X1,X2], y, epochs= 2000, verbose=0)"
      ],
      "execution_count": null,
      "outputs": []
    },
    {
      "cell_type": "code",
      "metadata": {
        "colab": {
          "base_uri": "https://localhost:8080/"
        },
        "id": "IIwYMNvQw-_2",
        "outputId": "f334d0d7-40d8-4069-dc31-69560167aeec"
      },
      "source": [
        "#Demonstrate prediction\n",
        "x_input = array([[70,75],[80, 85],[90, 95]])\n",
        "xinput_1 = x_input[:,0].reshape((1, n_steps))\n",
        "xinput_2 = x_input[:,1].reshape((1, n_steps))\n",
        "y_hat = model.predict([xinput_1,xinput_2], verbose=0)\n",
        "print(y_hat,out_seq[-1])"
      ],
      "execution_count": null,
      "outputs": [
        {
          "output_type": "stream",
          "text": [
            "[[206.8072]] [185]\n"
          ],
          "name": "stdout"
        }
      ]
    }
  ]
}